{
 "cells": [
  {
   "cell_type": "code",
   "execution_count": 2,
   "id": "fbf9184c",
   "metadata": {
    "scrolled": true
   },
   "outputs": [
    {
     "name": "stdout",
     "output_type": "stream",
     "text": [
      "[30000, 50000, 90000]\n",
      "30000\n",
      "[30000, 50000]\n",
      "[30000, 90000]\n"
     ]
    }
   ],
   "source": [
    "mylist = [30000,50000,90000]\n",
    "print(mylist)\n",
    "print(mylist[0])\n",
    "print(mylist[0:2])\n",
    "print(mylist[0:3:2])"
   ]
  },
  {
   "cell_type": "code",
   "execution_count": 3,
   "id": "7865f0ae",
   "metadata": {},
   "outputs": [
    {
     "name": "stdout",
     "output_type": "stream",
     "text": [
      "[30000, 50000, 90000]\n",
      "[30000, 50000, 90000, 40000]\n"
     ]
    }
   ],
   "source": [
    "#adding element\n",
    "\n",
    "\n",
    "\n",
    "mylist = [30000,50000,90000]\n",
    "print(mylist)\n",
    "mylist.append(40000)\n",
    "print(mylist)\n"
   ]
  },
  {
   "cell_type": "code",
   "execution_count": 6,
   "id": "d8f7bd05",
   "metadata": {},
   "outputs": [
    {
     "name": "stdout",
     "output_type": "stream",
     "text": [
      "30000\n",
      "100000\n"
     ]
    }
   ],
   "source": [
    "#finding the minimun/maximum value from the list \n",
    "\n",
    "salary = [30000,50000,90000,40000,100000]\n",
    "print(min(salary))\n",
    "print(max(salary))"
   ]
  },
  {
   "cell_type": "code",
   "execution_count": null,
   "id": "f024d792",
   "metadata": {},
   "outputs": [],
   "source": [
    "# clear():- is use to clear the list empty list\n",
    "sem = [\"IP\",\"OOPS\",\".NET\"]\n",
    "sem.clear()\n",
    "print(sem)"
   ]
  },
  {
   "cell_type": "code",
   "execution_count": null,
   "id": "302b1b47",
   "metadata": {},
   "outputs": [],
   "source": [
    "# reverse():  is used to reversed the list\n",
    "sem = [\"IP\",\"OOPS\",\".NET\"]\n",
    "sem.reverse()\n",
    "print(sem)"
   ]
  },
  {
   "cell_type": "code",
   "execution_count": 22,
   "id": "d7678117",
   "metadata": {},
   "outputs": [
    {
     "name": "stdout",
     "output_type": "stream",
     "text": [
      "2\n"
     ]
    }
   ],
   "source": [
    "#count():count the element from the list\n",
    "\n",
    "sem = [\"python\",\"OOPS\",\".NET\",\"python\"]\n",
    "res = sem.count(\"python\")\n",
    "print(res)"
   ]
  },
  {
   "cell_type": "code",
   "execution_count": 24,
   "id": "bfab56a2",
   "metadata": {},
   "outputs": [
    {
     "name": "stdout",
     "output_type": "stream",
     "text": [
      "3\n"
     ]
    }
   ],
   "source": [
    "sem = [\"IP\",\"IP\",\"IP\",\"python\",\"python\"]\n",
    "res = sem.count(\"IP\")\n",
    "print(res)"
   ]
  },
  {
   "cell_type": "code",
   "execution_count": 2,
   "id": "b50b0ffd",
   "metadata": {},
   "outputs": [
    {
     "name": "stdout",
     "output_type": "stream",
     "text": [
      "['IP', 'IP', '.net', 'python', 'python', 'wp', '']\n",
      "Enter the student name to counted:IP\n",
      "2\n"
     ]
    }
   ],
   "source": [
    "sem = [\"IP\",\"IP\",\".net\",\"python\",\"python\",\"wp\",\"\"]\n",
    "print(sem)\n",
    "inp = input(\"Enter the student name to counted:\")\n",
    "res = sem.count(inp)\n",
    "print(res)\n"
   ]
  },
  {
   "cell_type": "code",
   "execution_count": 7,
   "id": "ae9309f0",
   "metadata": {},
   "outputs": [
    {
     "name": "stdout",
     "output_type": "stream",
     "text": [
      "\n",
      " semester 1 students  ['Ip', 'Oops', '.Net', 'Python', 'maths', 'wp']\n",
      "\n",
      " semester 2 students  ['Java', 'Php', 'aws']\n",
      "\n",
      " semester 3 students  ['Ip', 'Oops', '.Net', 'Python', 'maths', 'wp', 'Java', 'Php', 'aws']\n"
     ]
    }
   ],
   "source": [
    "# extend()                                                               \n",
    "\n",
    "#------> To add  multiple values/element\n",
    "\n",
    "sem1 = [\"Ip\",\"Oops\",\".Net\",\"Python\",\"maths\",\"wp\"]\n",
    "sem2 = [\"Java\",\"Php\",\"aws\"]\n",
    "combine = sem1.copy()  # from the copy() method original data was not  defected\n",
    "combine.extend(sem2)\n",
    "print(\"\\n semester 1 students \",sem1)\n",
    "print(\"\\n semester 2 students \",sem2)\n",
    "print(\"\\n semester 3 students \",combine)"
   ]
  },
  {
   "cell_type": "code",
   "execution_count": 10,
   "id": "721f9f9d",
   "metadata": {},
   "outputs": [
    {
     "name": "stdout",
     "output_type": "stream",
     "text": [
      "1\n"
     ]
    }
   ],
   "source": [
    "#index()\n",
    "\n",
    "#-----> from index function we can get the index of that particular value\n",
    "\n",
    "mylist = [\"ram\",\"shyam\",\"satyam\",\"sundaram\"]\n",
    "res = mylist.index(\"shyam\")\n",
    "print(res)\n"
   ]
  },
  {
   "cell_type": "code",
   "execution_count": 12,
   "id": "302f3bb0",
   "metadata": {},
   "outputs": [
    {
     "name": "stdout",
     "output_type": "stream",
     "text": [
      "['shivam', 'ram', 'shyam', 'satyam', 'sundaram']\n"
     ]
    }
   ],
   "source": [
    "#insert()\n",
    "\n",
    "#------>from this function we can insert value for that particular selected index\n",
    "\n",
    "mylist = [\"ram\",\"shyam\",\"satyam\",\"sundaram\"]\n",
    "mylist.insert(0,\"shivam\")\n",
    "print(mylist)"
   ]
  },
  {
   "cell_type": "code",
   "execution_count": 14,
   "id": "b1ecfb5e",
   "metadata": {},
   "outputs": [
    {
     "name": "stdout",
     "output_type": "stream",
     "text": [
      "['vijay', 'sanjay']\n"
     ]
    }
   ],
   "source": [
    "#pop()\n",
    "\n",
    "#------> pop will delete index value from list\n",
    "\n",
    "names = [\"ajay\",\"vijay\",\"sanjay\"]\n",
    "names.pop(0)\n",
    "print(names)\n"
   ]
  },
  {
   "cell_type": "code",
   "execution_count": 16,
   "id": "e9498b3b",
   "metadata": {},
   "outputs": [
    {
     "name": "stdout",
     "output_type": "stream",
     "text": [
      "['ajay', 'vijay']\n"
     ]
    }
   ],
   "source": [
    "#remove():\n",
    "\n",
    "#----> it will remove list value\n",
    "names = [\"ajay\",\"vijay\",\"sanjay\"]\n",
    "names.remove(\"sanjay\")\n",
    "print(names)\n",
    "\n"
   ]
  },
  {
   "cell_type": "code",
   "execution_count": 17,
   "id": "7057c67e",
   "metadata": {},
   "outputs": [
    {
     "name": "stdout",
     "output_type": "stream",
     "text": [
      "['ajay', 'sanjay', 'vjay']\n"
     ]
    }
   ],
   "source": [
    "#sort()\n",
    "\n",
    "#--->sorting the list values \n",
    "\n",
    "names = [\"vjay\",\"ajay\",\"sanjay\"]\n",
    "names.sort()\n",
    "print(names)\n",
    "\n"
   ]
  },
  {
   "cell_type": "code",
   "execution_count": 18,
   "id": "7c09063a",
   "metadata": {},
   "outputs": [
    {
     "name": "stdout",
     "output_type": "stream",
     "text": [
      "[1, 2, 3, 4, 5, 7, 8, 9, 65]\n"
     ]
    }
   ],
   "source": [
    "names = [2,1,65,4,7,3,8,9,5]\n",
    "names.sort()\n",
    "print(names)\n",
    "\n"
   ]
  },
  {
   "cell_type": "code",
   "execution_count": 19,
   "id": "0217760c",
   "metadata": {},
   "outputs": [
    {
     "name": "stdout",
     "output_type": "stream",
     "text": [
      "[65, 9, 8, 7, 5, 4, 3, 2, 1]\n"
     ]
    }
   ],
   "source": [
    "#decending order\n",
    "names = [2,1,65,4,7,3,8,9,5]\n",
    "names.sort(reverse = True)\n",
    "print(names)\n"
   ]
  },
  {
   "cell_type": "markdown",
   "id": "aea09cce",
   "metadata": {},
   "source": [
    "# TUPLE"
   ]
  },
  {
   "cell_type": "code",
   "execution_count": 8,
   "id": "f4441dfd",
   "metadata": {},
   "outputs": [
    {
     "name": "stdout",
     "output_type": "stream",
     "text": [
      "<class 'tuple'>\n"
     ]
    }
   ],
   "source": [
    "name = \"sita\",\"komal\",\"alex\"\n",
    "print(type(name))"
   ]
  },
  {
   "cell_type": "code",
   "execution_count": 11,
   "id": "a7c70d44",
   "metadata": {},
   "outputs": [
    {
     "name": "stdout",
     "output_type": "stream",
     "text": [
      "<class 'tuple'>\n"
     ]
    }
   ],
   "source": [
    "name = \"1\",\n",
    "print(type(name))"
   ]
  },
  {
   "cell_type": "code",
   "execution_count": 12,
   "id": "6f5e9b93",
   "metadata": {},
   "outputs": [
    {
     "name": "stdout",
     "output_type": "stream",
     "text": [
      "ram\n"
     ]
    }
   ],
   "source": [
    "name = (\"ram\",\"alex\",\"shami\",\"krish\")\n",
    "print(name[0])"
   ]
  },
  {
   "cell_type": "code",
   "execution_count": 2,
   "id": "c7c3f6a0",
   "metadata": {},
   "outputs": [
    {
     "name": "stdout",
     "output_type": "stream",
     "text": [
      "['ajay', 'alex', 'shami', 'krish']\n"
     ]
    }
   ],
   "source": [
    "name = [\"ram\",\"alex\",\"shami\",\"krish\"]\n",
    "name[0] = \"ajay\"\n",
    "print(name)"
   ]
  },
  {
   "cell_type": "code",
   "execution_count": 3,
   "id": "b27f983a",
   "metadata": {},
   "outputs": [
    {
     "ename": "TypeError",
     "evalue": "'tuple' object does not support item assignment",
     "output_type": "error",
     "traceback": [
      "\u001b[1;31m---------------------------------------------------------------------------\u001b[0m",
      "\u001b[1;31mTypeError\u001b[0m                                 Traceback (most recent call last)",
      "Cell \u001b[1;32mIn[3], line 2\u001b[0m\n\u001b[0;32m      1\u001b[0m name \u001b[38;5;241m=\u001b[39m (\u001b[38;5;124m\"\u001b[39m\u001b[38;5;124mram\u001b[39m\u001b[38;5;124m\"\u001b[39m,\u001b[38;5;124m\"\u001b[39m\u001b[38;5;124malex\u001b[39m\u001b[38;5;124m\"\u001b[39m,\u001b[38;5;124m\"\u001b[39m\u001b[38;5;124mshami\u001b[39m\u001b[38;5;124m\"\u001b[39m,\u001b[38;5;124m\"\u001b[39m\u001b[38;5;124mkrish\u001b[39m\u001b[38;5;124m\"\u001b[39m)\n\u001b[1;32m----> 2\u001b[0m name[\u001b[38;5;241m0\u001b[39m] \u001b[38;5;241m=\u001b[39m \u001b[38;5;124m\"\u001b[39m\u001b[38;5;124majay\u001b[39m\u001b[38;5;124m\"\u001b[39m\n\u001b[0;32m      3\u001b[0m \u001b[38;5;28mprint\u001b[39m(name)\n",
      "\u001b[1;31mTypeError\u001b[0m: 'tuple' object does not support item assignment"
     ]
    }
   ],
   "source": [
    "#we can't change and modified the tuple  that why we get error here\n",
    "\n",
    "name = (\"ram\",\"alex\",\"shami\",\"krish\")\n",
    "name[0] = \"ajay\"\n",
    "print(name) "
   ]
  },
  {
   "cell_type": "code",
   "execution_count": null,
   "id": "5728d2b0",
   "metadata": {},
   "outputs": [],
   "source": [
    "# were we can use tuple?\n",
    "#----> email id?\n",
    "\n"
   ]
  },
  {
   "cell_type": "code",
   "execution_count": 5,
   "id": "d6887fa8",
   "metadata": {},
   "outputs": [
    {
     "name": "stdout",
     "output_type": "stream",
     "text": [
      "(1, 2, 3, 4, 5, 6)\n"
     ]
    }
   ],
   "source": [
    "#here + operator use to merge the tuple\n",
    "tup1 = (1,2,3)\n",
    "tup2 = (4,5,6)\n",
    "print(tup1+tup2)"
   ]
  },
  {
   "cell_type": "code",
   "execution_count": 6,
   "id": "b5b8bd66",
   "metadata": {},
   "outputs": [
    {
     "name": "stdout",
     "output_type": "stream",
     "text": [
      "value is present\n"
     ]
    }
   ],
   "source": [
    "tup = (1,2,3)\n",
    "if 1 in tup:\n",
    "    print(\"value is present\")\n",
    "else:\n",
    "    print(\"not present\")\n",
    "    "
   ]
  },
  {
   "cell_type": "markdown",
   "id": "40c1373f",
   "metadata": {},
   "source": [
    "# Dictionary"
   ]
  },
  {
   "cell_type": "code",
   "execution_count": 12,
   "id": "52180bdb",
   "metadata": {},
   "outputs": [
    {
     "name": "stdout",
     "output_type": "stream",
     "text": [
      "<class 'dict'>\n",
      "alex\n",
      "komal\n"
     ]
    }
   ],
   "source": [
    "fruits = {101:\"alex\",102:\"salman\",103:\"komal\"}\n",
    "print(type(fruits))\n",
    "print(fruits[101])\n",
    "print(fruits[103])\n"
   ]
  },
  {
   "cell_type": "code",
   "execution_count": 20,
   "id": "d5e8414d",
   "metadata": {},
   "outputs": [
    {
     "name": "stdout",
     "output_type": "stream",
     "text": [
      "{'alex': 45, 'salman': 65, 'komal': 67, 'ram': 76}\n",
      "45\n"
     ]
    }
   ],
   "source": [
    "marks = {\"alex\":45,\"salman\":65,\"komal\":67,\"ram\":76}\n",
    "print(marks)\n",
    "print(marks[\"alex\"])\n"
   ]
  },
  {
   "cell_type": "code",
   "execution_count": 23,
   "id": "e00317b9",
   "metadata": {},
   "outputs": [
    {
     "name": "stdout",
     "output_type": "stream",
     "text": [
      "{'alex': 100, 'salman': 65, 'komal': 67, 'ram': 76, 45: 'raj'}\n"
     ]
    }
   ],
   "source": [
    "marks = {\"alex\":45,\"salman\":65,\"komal\":67,\"ram\":76}\n",
    "marks[\"alex\"]=100\n",
    "marks[45]= \"raj\"\n",
    "\n",
    "print(marks)"
   ]
  },
  {
   "cell_type": "code",
   "execution_count": 1,
   "id": "e60eefdc",
   "metadata": {},
   "outputs": [
    {
     "name": "stdout",
     "output_type": "stream",
     "text": [
      "the name of the person swara\n",
      "enter the value to be upated:100\n",
      "{'alex': 45, 'salman': 65, 'komal': 67, 'ram': 76, 'swara': '100'}\n"
     ]
    }
   ],
   "source": [
    "marks = {\"alex\":45,\"salman\":65,\"komal\":67,\"ram\":76}\n",
    "#taking input from the user \n",
    "key1 = input(\"the name of the person \")\n",
    "value = input(\"enter the value to be upated:\")\n",
    "# adding  key- value pair in the dictionary\n",
    "marks [key1] = value\n",
    "print(marks)"
   ]
  },
  {
   "cell_type": "code",
   "execution_count": 3,
   "id": "42e6fdfe",
   "metadata": {},
   "outputs": [
    {
     "name": "stdout",
     "output_type": "stream",
     "text": [
      "{'alex': 45, 'salman': 65, 'ram': 76}\n"
     ]
    }
   ],
   "source": [
    "marks = {\"alex\":45,\"salman\":65,\"komal\":67,\"ram\":76}\n",
    "del marks[\"komal\"]\n",
    "print(marks)\n"
   ]
  },
  {
   "cell_type": "code",
   "execution_count": 5,
   "id": "265ace57",
   "metadata": {},
   "outputs": [
    {
     "name": "stdout",
     "output_type": "stream",
     "text": [
      "dict_values([45, 65, 67, 76])\n",
      "dict_keys(['alex', 'salman', 'komal', 'ram'])\n",
      "dict_items([('alex', 45), ('salman', 65), ('komal', 67), ('ram', 76)])\n"
     ]
    }
   ],
   "source": [
    "marks = {\"alex\":45,\"salman\":65,\"komal\":67,\"ram\":76}\n",
    "print(marks.values())  #print the all values from the dict\n",
    "print(marks.keys())  # print the all keys from the dict \n",
    "print(marks.items())  #print all items from  dict"
   ]
  },
  {
   "cell_type": "code",
   "execution_count": 6,
   "id": "4db88289",
   "metadata": {},
   "outputs": [
    {
     "name": "stdout",
     "output_type": "stream",
     "text": [
      "{'alex': 45, 'salman': 65, 'komal': 67}\n"
     ]
    }
   ],
   "source": [
    "marks = {\"alex\":45,\"salman\":65,\"komal\":67,\"ram\":76}\n",
    "marks.popitem()  #pop items removes the last element of the dictionary\n",
    "print(marks)"
   ]
  },
  {
   "cell_type": "code",
   "execution_count": 7,
   "id": "ac77fb95",
   "metadata": {},
   "outputs": [
    {
     "name": "stdout",
     "output_type": "stream",
     "text": [
      "{'alex': 45, 'salman': 65, 'komal': 67, 'ram': 100}\n"
     ]
    }
   ],
   "source": [
    "marks = {\"alex\":45,\"salman\":65,\"komal\":67,\"ram\":76}\n",
    "marks.update({\"ram\":100})  #here the element  ram is update with value 100 so update method is to be update the dictionary\n",
    "print(marks)"
   ]
  },
  {
   "cell_type": "code",
   "execution_count": 9,
   "id": "89705b86",
   "metadata": {},
   "outputs": [
    {
     "name": "stdout",
     "output_type": "stream",
     "text": [
      "{'IP': 89, 'WP': 88, 'OOPS': 56, 'WEB': 54, 'CYBER': 88, 'DIGITAL': 55, 'SECURITY': 88}\n"
     ]
    }
   ],
   "source": [
    "sem1 = {\"IP\":89,\"WP\":88,\"OOPS\":56}\n",
    "sem2 = {\"WEB\":89,\"CYBER\":88,\"DIGITAL\":55}\n",
    "sem3 = {\"IP\":89,\"SECURITY\":88,\"WEB\":54}\n",
    "sem4 = {}\n",
    "sem4.update(sem1)\n",
    "sem4.update(sem2)\n",
    "sem4.update(sem3)\n",
    "print(sem4)"
   ]
  },
  {
   "cell_type": "code",
   "execution_count": null,
   "id": "55a6eebc",
   "metadata": {},
   "outputs": [],
   "source": []
  },
  {
   "cell_type": "code",
   "execution_count": null,
   "id": "0c3052e5",
   "metadata": {},
   "outputs": [],
   "source": []
  }
 ],
 "metadata": {
  "kernelspec": {
   "display_name": "Python 3 (ipykernel)",
   "language": "python",
   "name": "python3"
  },
  "language_info": {
   "codemirror_mode": {
    "name": "ipython",
    "version": 3
   },
   "file_extension": ".py",
   "mimetype": "text/x-python",
   "name": "python",
   "nbconvert_exporter": "python",
   "pygments_lexer": "ipython3",
   "version": "3.11.4"
  }
 },
 "nbformat": 4,
 "nbformat_minor": 5
}
