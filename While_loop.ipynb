{
 "cells": [
  {
   "cell_type": "code",
   "execution_count": null,
   "id": "4bad5aae",
   "metadata": {},
   "outputs": [],
   "source": [
    "# 001_Example"
   ]
  },
  {
   "cell_type": "code",
   "execution_count": null,
   "id": "90f4f9ff",
   "metadata": {},
   "outputs": [],
   "source": [
    "num = 1\n",
    "while num <= 5:\n",
    "    print(num)\n",
    "    num = num+1"
   ]
  },
  {
   "cell_type": "code",
   "execution_count": null,
   "id": "95750723",
   "metadata": {},
   "outputs": [],
   "source": [
    "# 002_Example"
   ]
  },
  {
   "cell_type": "code",
   "execution_count": null,
   "id": "824287c1",
   "metadata": {
    "scrolled": true
   },
   "outputs": [],
   "source": [
    "num = 1\n",
    "while num <= 10:\n",
    "    print(num)\n",
    "    num = num+1"
   ]
  },
  {
   "cell_type": "code",
   "execution_count": null,
   "id": "bad06bee",
   "metadata": {},
   "outputs": [],
   "source": [
    "# 003_Example"
   ]
  },
  {
   "cell_type": "code",
   "execution_count": null,
   "id": "e764ff3b",
   "metadata": {},
   "outputs": [],
   "source": [
    "num = 1\n",
    "while num <= 10:\n",
    "    print(num)\n",
    "    num = num+2"
   ]
  },
  {
   "cell_type": "code",
   "execution_count": null,
   "id": "3532141a",
   "metadata": {},
   "outputs": [],
   "source": [
    "# 004_Example"
   ]
  },
  {
   "cell_type": "code",
   "execution_count": null,
   "id": "94ed3898",
   "metadata": {
    "scrolled": true
   },
   "outputs": [],
   "source": [
    "rows = 5\n",
    "i = 1\n",
    "while i <= rows:\n",
    "    print(\"*\" * i)\n",
    "    i =i + 1"
   ]
  },
  {
   "cell_type": "code",
   "execution_count": null,
   "id": "3f6b22aa",
   "metadata": {},
   "outputs": [],
   "source": [
    "# 005_Example"
   ]
  },
  {
   "cell_type": "code",
   "execution_count": null,
   "id": "ddd934c2",
   "metadata": {
    "scrolled": true
   },
   "outputs": [],
   "source": [
    "count = 5\n",
    "while count >= 1:\n",
    "    print(count)\n",
    "    count = count - 1\n"
   ]
  },
  {
   "cell_type": "code",
   "execution_count": null,
   "id": "7ba2e026",
   "metadata": {},
   "outputs": [],
   "source": [
    "# 006_Example"
   ]
  },
  {
   "cell_type": "code",
   "execution_count": null,
   "id": "7a0bd09d",
   "metadata": {},
   "outputs": [],
   "source": [
    "count = 5\n",
    "while count >= 1:\n",
    "    print(count)\n",
    "    count -= 1\n"
   ]
  },
  {
   "cell_type": "code",
   "execution_count": null,
   "id": "84b604b1",
   "metadata": {},
   "outputs": [],
   "source": [
    "for i in 1<2:\n",
    "    print(\"Hello\")"
   ]
  },
  {
   "cell_type": "code",
   "execution_count": 1,
   "id": "5919f747",
   "metadata": {},
   "outputs": [
    {
     "ename": "NameError",
     "evalue": "name 'i' is not defined",
     "output_type": "error",
     "traceback": [
      "\u001b[1;31m---------------------------------------------------------------------------\u001b[0m",
      "\u001b[1;31mNameError\u001b[0m                                 Traceback (most recent call last)",
      "Cell \u001b[1;32mIn[1], line 1\u001b[0m\n\u001b[1;32m----> 1\u001b[0m \u001b[38;5;28;01mwhile\u001b[39;00m i \u001b[38;5;129;01min\u001b[39;00m \u001b[38;5;28mrange\u001b[39m(\u001b[38;5;241m1\u001b[39m,\u001b[38;5;241m10\u001b[39m):\n\u001b[0;32m      2\u001b[0m     \u001b[38;5;28mprint\u001b[39m(i,\u001b[38;5;124m\"\u001b[39m\u001b[38;5;124mHello\u001b[39m\u001b[38;5;124m\"\u001b[39m)\n",
      "\u001b[1;31mNameError\u001b[0m: name 'i' is not defined"
     ]
    }
   ],
   "source": [
    "while i in range(1,10):\n",
    "    print(i,\"Hello\")"
   ]
  },
  {
   "cell_type": "code",
   "execution_count": null,
   "id": "c6e3285e",
   "metadata": {},
   "outputs": [],
   "source": []
  }
 ],
 "metadata": {
  "kernelspec": {
   "display_name": "Python 3 (ipykernel)",
   "language": "python",
   "name": "python3"
  },
  "language_info": {
   "codemirror_mode": {
    "name": "ipython",
    "version": 3
   },
   "file_extension": ".py",
   "mimetype": "text/x-python",
   "name": "python",
   "nbconvert_exporter": "python",
   "pygments_lexer": "ipython3",
   "version": "3.11.3"
  }
 },
 "nbformat": 4,
 "nbformat_minor": 5
}
