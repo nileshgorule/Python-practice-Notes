{
 "cells": [
  {
   "cell_type": "code",
   "execution_count": 3,
   "id": "8791a8a2",
   "metadata": {},
   "outputs": [
    {
     "name": "stdout",
     "output_type": "stream",
     "text": [
      "True\n"
     ]
    }
   ],
   "source": [
    "# Example 1\n",
    "print(3 in [1, 2, 3, 4])  # Output: True"
   ]
  },
  {
   "cell_type": "code",
   "execution_count": 4,
   "id": "bda5d81d",
   "metadata": {},
   "outputs": [
    {
     "name": "stdout",
     "output_type": "stream",
     "text": [
      "False\n"
     ]
    }
   ],
   "source": [
    "# Example 2\n",
    "print(\"a\" in \"hello\")  # Output: False"
   ]
  },
  {
   "cell_type": "code",
   "execution_count": 5,
   "id": "221ef7b3",
   "metadata": {},
   "outputs": [
    {
     "name": "stdout",
     "output_type": "stream",
     "text": [
      "False\n"
     ]
    }
   ],
   "source": [
    "# Example 3\n",
    "print(5 in (1, 2, 3))  # Output: False"
   ]
  },
  {
   "cell_type": "code",
   "execution_count": 6,
   "id": "2d608b7b",
   "metadata": {},
   "outputs": [
    {
     "name": "stdout",
     "output_type": "stream",
     "text": [
      "True\n"
     ]
    }
   ],
   "source": [
    "# Example 4\n",
    "print(\"apple\" in [\"orange\", \"banana\", \"apple\"])  # Output: True"
   ]
  },
  {
   "cell_type": "code",
   "execution_count": 7,
   "id": "ad5bcab4",
   "metadata": {},
   "outputs": [
    {
     "name": "stdout",
     "output_type": "stream",
     "text": [
      "True\n"
     ]
    }
   ],
   "source": [
    "# Example 5\n",
    "print(\"hello\" in {\"hello\": 123, \"world\": 456})  # Output: True"
   ]
  },
  {
   "cell_type": "code",
   "execution_count": 8,
   "id": "7df00146",
   "metadata": {},
   "outputs": [
    {
     "name": "stdout",
     "output_type": "stream",
     "text": [
      "True\n"
     ]
    }
   ],
   "source": [
    "# Example 6\n",
    "print(\"cat\" in {\"dog\", \"cat\", \"fish\"})  # Output: True"
   ]
  },
  {
   "cell_type": "code",
   "execution_count": 9,
   "id": "fb6010cf",
   "metadata": {},
   "outputs": [
    {
     "name": "stdout",
     "output_type": "stream",
     "text": [
      "True\n"
     ]
    }
   ],
   "source": [
    "# Example 7\n",
    "print(2 in {1, 2, 3, 4})  # Output: True"
   ]
  },
  {
   "cell_type": "code",
   "execution_count": 10,
   "id": "45cdf580",
   "metadata": {},
   "outputs": [
    {
     "name": "stdout",
     "output_type": "stream",
     "text": [
      "True\n"
     ]
    }
   ],
   "source": [
    "# Example 8\n",
    "print(4 in range(1, 6))  # Output: True"
   ]
  },
  {
   "cell_type": "code",
   "execution_count": 11,
   "id": "7999292c",
   "metadata": {},
   "outputs": [
    {
     "name": "stdout",
     "output_type": "stream",
     "text": [
      "False\n"
     ]
    }
   ],
   "source": [
    "# Example 9\n",
    "print(0 in [1, 2, 3])  # Output: False"
   ]
  },
  {
   "cell_type": "code",
   "execution_count": 12,
   "id": "51d087e0",
   "metadata": {},
   "outputs": [
    {
     "name": "stdout",
     "output_type": "stream",
     "text": [
      "True\n"
     ]
    }
   ],
   "source": [
    "# Example 10\n",
    "print(\"x\" in \"xylophone\")  # Output: True"
   ]
  },
  {
   "cell_type": "code",
   "execution_count": null,
   "id": "feee2307",
   "metadata": {},
   "outputs": [],
   "source": []
  },
  {
   "cell_type": "code",
   "execution_count": 4,
   "id": "837559e7",
   "metadata": {},
   "outputs": [
    {
     "name": "stdout",
     "output_type": "stream",
     "text": [
      "Enter name to be searched: krish\n",
      "False\n"
     ]
    }
   ],
   "source": [
    "a = [\"ram\",\"alex\",\"komal\"]\n",
    "inp = input(\"Enter name to be searched: \")\n",
    "res= inp in a\n",
    "print(res)"
   ]
  },
  {
   "cell_type": "code",
   "execution_count": 8,
   "id": "4f2ad318",
   "metadata": {},
   "outputs": [
    {
     "name": "stdout",
     "output_type": "stream",
     "text": [
      "20\n"
     ]
    }
   ],
   "source": [
    "x,y=10,20\n",
    "print(y)"
   ]
  },
  {
   "cell_type": "code",
   "execution_count": null,
   "id": "ab042479",
   "metadata": {},
   "outputs": [],
   "source": []
  }
 ],
 "metadata": {
  "kernelspec": {
   "display_name": "Python 3 (ipykernel)",
   "language": "python",
   "name": "python3"
  },
  "language_info": {
   "codemirror_mode": {
    "name": "ipython",
    "version": 3
   },
   "file_extension": ".py",
   "mimetype": "text/x-python",
   "name": "python",
   "nbconvert_exporter": "python",
   "pygments_lexer": "ipython3",
   "version": "3.11.3"
  }
 },
 "nbformat": 4,
 "nbformat_minor": 5
}
