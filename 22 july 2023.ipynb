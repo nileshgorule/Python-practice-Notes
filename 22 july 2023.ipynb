{
 "cells": [
  {
   "cell_type": "code",
   "execution_count": 1,
   "id": "934d1b08",
   "metadata": {},
   "outputs": [
    {
     "name": "stdout",
     "output_type": "stream",
     "text": [
      "48\n"
     ]
    }
   ],
   "source": [
    "num1= 23\n",
    "num2= 25\n",
    "print(num1+num2)"
   ]
  },
  {
   "cell_type": "code",
   "execution_count": 2,
   "id": "abd8cf7f",
   "metadata": {},
   "outputs": [],
   "source": [
    "#Arithmatic operator "
   ]
  },
  {
   "cell_type": "code",
   "execution_count": 3,
   "id": "3e63b789",
   "metadata": {},
   "outputs": [
    {
     "name": "stdout",
     "output_type": "stream",
     "text": [
      "-45\n"
     ]
    }
   ],
   "source": [
    "print(2+3-5*10)"
   ]
  },
  {
   "cell_type": "code",
   "execution_count": 4,
   "id": "e71d6fe0",
   "metadata": {},
   "outputs": [],
   "source": [
    "#addition "
   ]
  },
  {
   "cell_type": "code",
   "execution_count": 5,
   "id": "7743be7b",
   "metadata": {},
   "outputs": [
    {
     "name": "stdout",
     "output_type": "stream",
     "text": [
      "49\n"
     ]
    }
   ],
   "source": [
    "a = 24\n",
    "b = 25\n",
    "print(a+b)"
   ]
  },
  {
   "cell_type": "code",
   "execution_count": 6,
   "id": "a6014f49",
   "metadata": {},
   "outputs": [],
   "source": [
    "#substraction"
   ]
  },
  {
   "cell_type": "code",
   "execution_count": 7,
   "id": "b1d721ab",
   "metadata": {},
   "outputs": [
    {
     "name": "stdout",
     "output_type": "stream",
     "text": [
      "-1\n"
     ]
    }
   ],
   "source": [
    "a = 24\n",
    "b = 25\n",
    "print(a-b)"
   ]
  },
  {
   "cell_type": "code",
   "execution_count": 9,
   "id": "17a86794",
   "metadata": {},
   "outputs": [],
   "source": [
    "#multiplication"
   ]
  },
  {
   "cell_type": "code",
   "execution_count": 10,
   "id": "497d16f0",
   "metadata": {},
   "outputs": [
    {
     "name": "stdout",
     "output_type": "stream",
     "text": [
      "60\n"
     ]
    }
   ],
   "source": [
    "print(20*3)"
   ]
  },
  {
   "cell_type": "code",
   "execution_count": 11,
   "id": "a887585e",
   "metadata": {},
   "outputs": [],
   "source": [
    "# division"
   ]
  },
  {
   "cell_type": "code",
   "execution_count": 13,
   "id": "7b155882",
   "metadata": {},
   "outputs": [
    {
     "name": "stdout",
     "output_type": "stream",
     "text": [
      "8\n"
     ]
    }
   ],
   "source": [
    "print(int(24/3))\n"
   ]
  },
  {
   "cell_type": "code",
   "execution_count": 14,
   "id": "01f5beef",
   "metadata": {},
   "outputs": [],
   "source": [
    "# floor devision "
   ]
  },
  {
   "cell_type": "code",
   "execution_count": 15,
   "id": "fa9a800a",
   "metadata": {},
   "outputs": [
    {
     "name": "stdout",
     "output_type": "stream",
     "text": [
      "3\n"
     ]
    }
   ],
   "source": [
    "print(10//3)\n"
   ]
  },
  {
   "cell_type": "code",
   "execution_count": 16,
   "id": "6ec6ef7f",
   "metadata": {},
   "outputs": [],
   "source": [
    "#modulus "
   ]
  },
  {
   "cell_type": "code",
   "execution_count": 17,
   "id": "a58d4590",
   "metadata": {},
   "outputs": [
    {
     "name": "stdout",
     "output_type": "stream",
     "text": [
      "1\n"
     ]
    }
   ],
   "source": [
    "print(10%3)"
   ]
  },
  {
   "cell_type": "code",
   "execution_count": 18,
   "id": "bcafdddf",
   "metadata": {},
   "outputs": [],
   "source": [
    "# exponent"
   ]
  },
  {
   "cell_type": "code",
   "execution_count": 19,
   "id": "4a72c39b",
   "metadata": {},
   "outputs": [
    {
     "name": "stdout",
     "output_type": "stream",
     "text": [
      "100\n"
     ]
    }
   ],
   "source": [
    "print(10**2)"
   ]
  },
  {
   "cell_type": "code",
   "execution_count": 20,
   "id": "285cc4a4",
   "metadata": {},
   "outputs": [
    {
     "name": "stdout",
     "output_type": "stream",
     "text": [
      "enter a first number:5\n",
      "enter a second number:5\n",
      "10\n",
      "0\n",
      "25\n",
      "1.0\n",
      "3125\n",
      "1\n"
     ]
    }
   ],
   "source": [
    "a = int(input(\"enter a first number:\"))\n",
    "b = int(input(\"enter a second number:\"))\n",
    "print(a+b)\n",
    "print(a-b)\n",
    "print(a*b)\n",
    "print(a/b)\n",
    "print(a**b)\n",
    "print(a//b)\n"
   ]
  },
  {
   "cell_type": "code",
   "execution_count": 21,
   "id": "19a12265",
   "metadata": {},
   "outputs": [
    {
     "name": "stdout",
     "output_type": "stream",
     "text": [
      "enter a first number:5\n",
      "enter a second number:5\n",
      "10   0   25   3125   1.0   1\n"
     ]
    }
   ],
   "source": [
    "a = int(input(\"enter a first number:\"))\n",
    "b = int(input(\"enter a second number:\"))\n",
    "print(a+b,\" \",a-b,\" \",a*b,\" \",a**b,\" \",a/b,\" \",a//b)"
   ]
  },
  {
   "cell_type": "code",
   "execution_count": 22,
   "id": "56027cec",
   "metadata": {},
   "outputs": [],
   "source": [
    "#logical operators \n",
    "# &,or,Not"
   ]
  },
  {
   "cell_type": "code",
   "execution_count": 23,
   "id": "b67def44",
   "metadata": {},
   "outputs": [
    {
     "name": "stdout",
     "output_type": "stream",
     "text": [
      "True\n"
     ]
    }
   ],
   "source": [
    "name = True\n",
    "print(name)"
   ]
  },
  {
   "cell_type": "code",
   "execution_count": 25,
   "id": "fd5a3424",
   "metadata": {},
   "outputs": [
    {
     "name": "stdout",
     "output_type": "stream",
     "text": [
      "False\n"
     ]
    }
   ],
   "source": [
    "name = True and False \n",
    "print(name)"
   ]
  },
  {
   "cell_type": "code",
   "execution_count": 27,
   "id": "1bcf631a",
   "metadata": {},
   "outputs": [
    {
     "name": "stdout",
     "output_type": "stream",
     "text": [
      "True\n"
     ]
    }
   ],
   "source": [
    "#or operator\n",
    "name = True or False \n",
    "print(name)"
   ]
  },
  {
   "cell_type": "code",
   "execution_count": 30,
   "id": "c31c0cd3",
   "metadata": {},
   "outputs": [
    {
     "name": "stdout",
     "output_type": "stream",
     "text": [
      "False\n"
     ]
    }
   ],
   "source": [
    "name = False and True \n",
    "print(name)"
   ]
  },
  {
   "cell_type": "code",
   "execution_count": 31,
   "id": "79bbcc8d",
   "metadata": {},
   "outputs": [],
   "source": [
    "#NOT operator"
   ]
  },
  {
   "cell_type": "code",
   "execution_count": 32,
   "id": "38e5674b",
   "metadata": {},
   "outputs": [
    {
     "name": "stdout",
     "output_type": "stream",
     "text": [
      "False\n"
     ]
    }
   ],
   "source": [
    "a = not True\n",
    "print(a)"
   ]
  },
  {
   "cell_type": "code",
   "execution_count": 34,
   "id": "3659d52b",
   "metadata": {},
   "outputs": [
    {
     "name": "stdout",
     "output_type": "stream",
     "text": [
      "False\n"
     ]
    }
   ],
   "source": [
    "a = True\n",
    "print(not a)"
   ]
  },
  {
   "cell_type": "code",
   "execution_count": 35,
   "id": "6aa7afeb",
   "metadata": {},
   "outputs": [
    {
     "name": "stdout",
     "output_type": "stream",
     "text": [
      "True\n"
     ]
    }
   ],
   "source": [
    "a = False\n",
    "print(not a)"
   ]
  },
  {
   "cell_type": "code",
   "execution_count": 36,
   "id": "a7ab46f6",
   "metadata": {},
   "outputs": [],
   "source": [
    "# Real time Exapmle"
   ]
  },
  {
   "cell_type": "code",
   "execution_count": 40,
   "id": "4855cc07",
   "metadata": {},
   "outputs": [
    {
     "name": "stdout",
     "output_type": "stream",
     "text": [
      "Enter your username:nilesh\n",
      "Enter your password :12345\n",
      "incorrect useername and password\n"
     ]
    }
   ],
   "source": [
    "user= input(\"Enter your username:\")\n",
    "password = input(\"Enter your password :\")\n",
    "\n",
    "if user ==\"krish\" and password == \"12345\":\n",
    "    print(\"you are logged in....\")\n",
    "else:\n",
    "    print(\"incorrect useername and password\")\n",
    "    "
   ]
  },
  {
   "cell_type": "code",
   "execution_count": 41,
   "id": "641c83af",
   "metadata": {},
   "outputs": [
    {
     "name": "stdout",
     "output_type": "stream",
     "text": [
      "Enter your username:krish\n",
      "Enter your password :12345\n",
      "you are logged in....\n"
     ]
    }
   ],
   "source": [
    "user= input(\"Enter your username:\")\n",
    "password = input(\"Enter your password :\")\n",
    "\n",
    "if user ==\"krish\" and password == \"12345\":\n",
    "    print(\"you are logged in....\")\n",
    "else:\n",
    "    print(\"incorrect useername and password\")\n",
    "    "
   ]
  },
  {
   "cell_type": "code",
   "execution_count": 42,
   "id": "c829f50f",
   "metadata": {},
   "outputs": [],
   "source": [
    "# membership operators \n",
    "\n",
    "\n",
    "# IN   \n",
    "# NOT IN"
   ]
  },
  {
   "cell_type": "code",
   "execution_count": 43,
   "id": "b924b123",
   "metadata": {},
   "outputs": [
    {
     "name": "stdout",
     "output_type": "stream",
     "text": [
      "[10, 20, 30]\n"
     ]
    }
   ],
   "source": [
    "a =[10,20,30]\n",
    "print(a)\n"
   ]
  },
  {
   "cell_type": "code",
   "execution_count": 44,
   "id": "f5a337c7",
   "metadata": {},
   "outputs": [
    {
     "name": "stdout",
     "output_type": "stream",
     "text": [
      "True\n"
     ]
    }
   ],
   "source": [
    "a = [10,20,30]\n",
    "res = 10 in a\n",
    "print(res)\n"
   ]
  },
  {
   "cell_type": "code",
   "execution_count": 45,
   "id": "598ca90e",
   "metadata": {},
   "outputs": [
    {
     "name": "stdout",
     "output_type": "stream",
     "text": [
      "False\n"
     ]
    }
   ],
   "source": [
    "a = [10,20,30]\n",
    "res = 50 in a\n",
    "print(res)\n"
   ]
  },
  {
   "cell_type": "code",
   "execution_count": 47,
   "id": "9e3161d0",
   "metadata": {},
   "outputs": [
    {
     "name": "stdout",
     "output_type": "stream",
     "text": [
      "True\n"
     ]
    }
   ],
   "source": [
    "a = [10,20,30]\n",
    "res = 50 not  in a\n",
    "print(res)\n"
   ]
  },
  {
   "cell_type": "code",
   "execution_count": 49,
   "id": "eaffb9ec",
   "metadata": {},
   "outputs": [
    {
     "name": "stdout",
     "output_type": "stream",
     "text": [
      "False\n"
     ]
    }
   ],
   "source": [
    "a = [10,20,30]\n",
    "res = 10 not in a\n",
    "print(res)\n"
   ]
  },
  {
   "cell_type": "code",
   "execution_count": 51,
   "id": "926aa988",
   "metadata": {},
   "outputs": [
    {
     "name": "stdout",
     "output_type": "stream",
     "text": [
      "False\n"
     ]
    }
   ],
   "source": [
    "value = \"Hello\"\n",
    "res = \"a\" in value\n",
    "print(res)"
   ]
  },
  {
   "cell_type": "code",
   "execution_count": 52,
   "id": "60848682",
   "metadata": {},
   "outputs": [
    {
     "name": "stdout",
     "output_type": "stream",
     "text": [
      "True\n"
     ]
    }
   ],
   "source": [
    "value = \"Hello\"\n",
    "res = \"e\" in value\n",
    "print(res)"
   ]
  },
  {
   "cell_type": "code",
   "execution_count": 53,
   "id": "f7b18cef",
   "metadata": {},
   "outputs": [],
   "source": [
    "# Equality operator\n",
    "# ==\n",
    "# !="
   ]
  },
  {
   "cell_type": "code",
   "execution_count": 54,
   "id": "e8a0e21e",
   "metadata": {},
   "outputs": [
    {
     "name": "stdout",
     "output_type": "stream",
     "text": [
      "False\n"
     ]
    }
   ],
   "source": [
    "print(1!=1)"
   ]
  },
  {
   "cell_type": "code",
   "execution_count": 56,
   "id": "973a2c51",
   "metadata": {},
   "outputs": [
    {
     "name": "stdout",
     "output_type": "stream",
     "text": [
      "True\n"
     ]
    }
   ],
   "source": [
    "print(1!=2)"
   ]
  },
  {
   "cell_type": "code",
   "execution_count": 57,
   "id": "84a446c1",
   "metadata": {},
   "outputs": [
    {
     "name": "stdout",
     "output_type": "stream",
     "text": [
      "True\n"
     ]
    }
   ],
   "source": [
    "print(2==2)"
   ]
  },
  {
   "cell_type": "code",
   "execution_count": 59,
   "id": "2f89ea47",
   "metadata": {},
   "outputs": [
    {
     "name": "stdout",
     "output_type": "stream",
     "text": [
      "False\n"
     ]
    }
   ],
   "source": [
    "print(2==3)"
   ]
  },
  {
   "cell_type": "code",
   "execution_count": 60,
   "id": "b0ecb32a",
   "metadata": {},
   "outputs": [],
   "source": [
    "#comparison operator\n",
    "# 1 == equal\n",
    "# 2 != equal to\n",
    "# 3 >  greator than\n",
    "# 4 >= greator than euqal to\n",
    "# 5 <  less than\n",
    "# 6 <= less than equal to\n"
   ]
  },
  {
   "cell_type": "code",
   "execution_count": 61,
   "id": "c7604e24",
   "metadata": {},
   "outputs": [
    {
     "name": "stdout",
     "output_type": "stream",
     "text": [
      "True\n"
     ]
    }
   ],
   "source": [
    "a = 5\n",
    "b = 10\n",
    "print(a<b) "
   ]
  },
  {
   "cell_type": "code",
   "execution_count": 63,
   "id": "3c4c638d",
   "metadata": {},
   "outputs": [
    {
     "name": "stdout",
     "output_type": "stream",
     "text": [
      "False\n"
     ]
    }
   ],
   "source": [
    "a = 5\n",
    "b = 10\n",
    "print(a>b) "
   ]
  },
  {
   "cell_type": "code",
   "execution_count": 65,
   "id": "3a76f9cd",
   "metadata": {},
   "outputs": [
    {
     "name": "stdout",
     "output_type": "stream",
     "text": [
      "True\n"
     ]
    }
   ],
   "source": [
    "a = 10\n",
    "b = 10\n",
    "print(a==b) "
   ]
  },
  {
   "cell_type": "code",
   "execution_count": 67,
   "id": "59804ebf",
   "metadata": {},
   "outputs": [
    {
     "name": "stdout",
     "output_type": "stream",
     "text": [
      "True\n"
     ]
    }
   ],
   "source": [
    "a = 5\n",
    "b = 10\n",
    "print(a<=b) "
   ]
  },
  {
   "cell_type": "code",
   "execution_count": 69,
   "id": "15c8deb8",
   "metadata": {},
   "outputs": [
    {
     "name": "stdout",
     "output_type": "stream",
     "text": [
      "True\n"
     ]
    }
   ],
   "source": [
    "a = 10\n",
    "b = 5\n",
    "print(a>=b) "
   ]
  },
  {
   "cell_type": "code",
   "execution_count": 72,
   "id": "a170d15d",
   "metadata": {},
   "outputs": [
    {
     "name": "stdout",
     "output_type": "stream",
     "text": [
      "True\n"
     ]
    }
   ],
   "source": [
    "a = 5\n",
    "b = 10\n",
    "print(a!=b) "
   ]
  },
  {
   "cell_type": "code",
   "execution_count": 74,
   "id": "2c761d83",
   "metadata": {},
   "outputs": [
    {
     "name": "stdout",
     "output_type": "stream",
     "text": [
      "True\n"
     ]
    }
   ],
   "source": [
    "a = 20\n",
    "b = 10\n",
    "print(a!=b) "
   ]
  },
  {
   "cell_type": "code",
   "execution_count": null,
   "id": "71f45183",
   "metadata": {},
   "outputs": [],
   "source": [
    "a = 10\n",
    "b = 10\n",
    "print(a!=b) "
   ]
  },
  {
   "cell_type": "raw",
   "id": "e0f2f077",
   "metadata": {},
   "source": [
    "# control flow\n",
    "# there are three types of control flow\n",
    "# 1.Conditional Control Flow\n",
    "# 2.Loop control Flow\n",
    "# 3.Control /Transfer Statement"
   ]
  },
  {
   "cell_type": "code",
   "execution_count": 88,
   "id": "34ab98af",
   "metadata": {},
   "outputs": [
    {
     "name": "stdout",
     "output_type": "stream",
     "text": [
      "Enter weatherraining\n",
      "take Umbrella\n"
     ]
    }
   ],
   "source": [
    "w = input(\"Enter weather\")\n",
    "if w == \"raining\":\n",
    "    print(\"take Umbrella\")\n",
    "else:\n",
    "    print(\"don't take  Umbrella\")\n",
    "    "
   ]
  },
  {
   "cell_type": "code",
   "execution_count": 89,
   "id": "2a3af8aa",
   "metadata": {},
   "outputs": [],
   "source": [
    "#1 Conditional control flow\n",
    "# defination\n",
    "\n",
    "#decision making structure require that the programmer specify  one or more condition to be evaluate or tested by the program,along with a statement or statement to be  executed if the conditon is determine to be true and optionally, other statement to be executed if the  condition is determine to false "
   ]
  },
  {
   "cell_type": "code",
   "execution_count": null,
   "id": "7ce1de5e",
   "metadata": {},
   "outputs": [],
   "source": [
    "#IF Statement #IF-else statement"
   ]
  },
  {
   "cell_type": "code",
   "execution_count": 1,
   "id": "671f3c28",
   "metadata": {},
   "outputs": [
    {
     "name": "stdout",
     "output_type": "stream",
     "text": [
      "same value\n"
     ]
    }
   ],
   "source": [
    "value = 10\n",
    "if value == 10:\n",
    "    print(\"same value\")  #True block\n",
    "else:\n",
    "    print(\"it is different value\")   #false block\n",
    "      "
   ]
  },
  {
   "cell_type": "code",
   "execution_count": 3,
   "id": "77e9d98d",
   "metadata": {},
   "outputs": [
    {
     "name": "stdout",
     "output_type": "stream",
     "text": [
      "it is different value\n"
     ]
    }
   ],
   "source": [
    "\n",
    "# with different value\n",
    "value = 20\n",
    "if value == 10:\n",
    "    print(\"same value\")  #True block\n",
    "else:\n",
    "    print(\"it is different value\")   #false block\n",
    "      "
   ]
  },
  {
   "cell_type": "code",
   "execution_count": 4,
   "id": "6e3031a8",
   "metadata": {},
   "outputs": [],
   "source": [
    "#3 if elif else statement \n",
    "\n",
    "#the elif statement allows the user to check multiple expression  for TRUE and excute a block of code as soon as one of the condtions  evaluates to TRUE."
   ]
  },
  {
   "cell_type": "code",
   "execution_count": 5,
   "id": "e045ca4b",
   "metadata": {},
   "outputs": [
    {
     "name": "stdout",
     "output_type": "stream",
     "text": [
      "hey\n"
     ]
    }
   ],
   "source": [
    "#else example \n",
    "\n",
    "a = 10 \n",
    "if a == 10:\n",
    "    print(\"hey\")\n",
    "else:\n",
    "    print(\"bye\")\n",
    "    \n",
    "    "
   ]
  },
  {
   "cell_type": "code",
   "execution_count": 7,
   "id": "1b6f1a88",
   "metadata": {},
   "outputs": [],
   "source": [
    "# IF-elif- statement program\n"
   ]
  },
  {
   "cell_type": "code",
   "execution_count": 8,
   "id": "7193bdf9",
   "metadata": {},
   "outputs": [
    {
     "name": "stdout",
     "output_type": "stream",
     "text": [
      "positive number\n"
     ]
    }
   ],
   "source": [
    "num = 10 \n",
    "if num <= 0:\n",
    "    print(\"negaitve number\")\n",
    "elif num == 0:\n",
    "    print(\"you have entered 0\")\n",
    "else:\n",
    "    print(\"positive number\")"
   ]
  },
  {
   "cell_type": "code",
   "execution_count": 17,
   "id": "aed55862",
   "metadata": {},
   "outputs": [
    {
     "name": "stdout",
     "output_type": "stream",
     "text": [
      "enter a number:0\n",
      "you have entered 0\n"
     ]
    }
   ],
   "source": [
    "num = int(input(\"enter a number:\"))\n",
    "if num < 0:\n",
    "    print(\"negaitve number\")\n",
    "elif num ==0:\n",
    "    print(\"you have entered 0\")\n",
    "else:\n",
    "    print(\"positive number\")"
   ]
  },
  {
   "cell_type": "code",
   "execution_count": 19,
   "id": "5c1cf43b",
   "metadata": {},
   "outputs": [
    {
     "name": "stdout",
     "output_type": "stream",
     "text": [
      "enter a number:-4\n",
      "negaitve number\n"
     ]
    }
   ],
   "source": [
    "num = int(input(\"enter a number:\"))\n",
    "if num < 0:\n",
    "    print(\"negaitve number\")\n",
    "elif num ==0:\n",
    "    print(\"you have entered 0\")\n",
    "else:\n",
    "    print(\"positive number\")\n",
    "    "
   ]
  },
  {
   "cell_type": "code",
   "execution_count": 20,
   "id": "6fc5b401",
   "metadata": {},
   "outputs": [
    {
     "name": "stdout",
     "output_type": "stream",
     "text": [
      "enter a number:6\n",
      "positive number\n"
     ]
    }
   ],
   "source": [
    "num = int(input(\"enter a number:\"))\n",
    "if num < 0:\n",
    "    print(\"negaitve number\")\n",
    "elif num ==0:\n",
    "    print(\"you have entered 0\")\n",
    "else:\n",
    "    print(\"positive number\")"
   ]
  },
  {
   "cell_type": "code",
   "execution_count": null,
   "id": "d2613a96",
   "metadata": {},
   "outputs": [],
   "source": [
    "# if example"
   ]
  },
  {
   "cell_type": "code",
   "execution_count": 25,
   "id": "3d08b1b1",
   "metadata": {},
   "outputs": [
    {
     "name": "stdout",
     "output_type": "stream",
     "text": [
      "enter  the day:9\n",
      "invalid input\n"
     ]
    }
   ],
   "source": [
    "day = int(input(\"enter  the day:\"))\n",
    "if day == 1:\n",
    "    print(\"Sunday\")\n",
    "if day == 2:\n",
    "    print(\"Monday\")\n",
    "if day == 3:\n",
    "    print(\"tuesday\")\n",
    "if day == 4:\n",
    "    print(\"Wednesday\")\n",
    "if day == 5:\n",
    "    print(\"Thursday\")\n",
    "if day == 6:\n",
    "    print(\"Friday\")\n",
    "if day == 7:\n",
    "    print(\"Saturday\")\n",
    "else:\n",
    "    print(\"invalid input\")"
   ]
  },
  {
   "cell_type": "code",
   "execution_count": 26,
   "id": "659777e2",
   "metadata": {},
   "outputs": [
    {
     "name": "stdout",
     "output_type": "stream",
     "text": [
      "Enter your age:14\n",
      "You cannot give the Vote \n"
     ]
    }
   ],
   "source": [
    "#example\n",
    "age = int(input(\"Enter your age:\"))\n",
    "if age >= 18:\n",
    "    print(\"You can give the Vote:\")\n",
    "elif age <= 18:\n",
    "    print(\"You cannot give the Vote \")\n",
    "else:\n",
    "    print(\"invalid input\")"
   ]
  },
  {
   "cell_type": "code",
   "execution_count": 28,
   "id": "32acfbbf",
   "metadata": {},
   "outputs": [
    {
     "name": "stdout",
     "output_type": "stream",
     "text": [
      "Enter your age:57\n",
      "You can give the Vote\n"
     ]
    }
   ],
   "source": [
    "#example\n",
    "age = int(input(\"Enter your age:\"))\n",
    "if age >= 18:\n",
    "    print(\"You can give the Vote\")\n",
    "elif age <= 18:\n",
    "    print(\"You cannot give the Vote \")\n",
    "else:\n",
    "    print(\"invalid input\")"
   ]
  },
  {
   "cell_type": "code",
   "execution_count": 29,
   "id": "273f1a52",
   "metadata": {},
   "outputs": [
    {
     "name": "stdout",
     "output_type": "stream",
     "text": [
      "Enter your age:17\n",
      "Your age is not eligeble for getting access for license\n"
     ]
    }
   ],
   "source": [
    "#Home work questions driveing licence\n",
    "age = int(input(\"Enter your age:\"))\n",
    "if age >= 18:\n",
    "    print(\"You can get access for license\")\n",
    "elif age <= 18:\n",
    "    print(\"Your age is not eligeble for getting access for license\")\n",
    "else:\n",
    "    print(\"invalid input\")"
   ]
  },
  {
   "cell_type": "code",
   "execution_count": 30,
   "id": "4074c31d",
   "metadata": {},
   "outputs": [
    {
     "name": "stdout",
     "output_type": "stream",
     "text": [
      "Enter your age:25\n",
      "You can get access for license\n"
     ]
    }
   ],
   "source": [
    "#Home work questions driveing licence\n",
    "age = int(input(\"Enter your age:\"))\n",
    "if age >= 18:\n",
    "    print(\"You can get access for license\")\n",
    "elif age <= 18:\n",
    "    print(\"Your age is not eligeble for getting access for license\")\n",
    "else:\n",
    "    print(\"invalid input\")"
   ]
  },
  {
   "cell_type": "code",
   "execution_count": 31,
   "id": "c7adf28c",
   "metadata": {},
   "outputs": [
    {
     "name": "stdout",
     "output_type": "stream",
     "text": [
      "hello world\n"
     ]
    }
   ],
   "source": [
    "#looping \n",
    "\n",
    "print(\"hello world\")"
   ]
  },
  {
   "cell_type": "code",
   "execution_count": 33,
   "id": "41825708",
   "metadata": {},
   "outputs": [
    {
     "name": "stdout",
     "output_type": "stream",
     "text": [
      "1 hello world\n",
      "2 hello world\n",
      "3 hello world\n",
      "4 hello world\n",
      "5 hello world\n",
      "6 hello world\n",
      "7 hello world\n",
      "8 hello world\n",
      "9 hello world\n",
      "10 hello world\n"
     ]
    }
   ],
   "source": [
    "#print hello world for 10 times \n",
    "\n",
    "for i in range (1,11):  #(n-1) format means if you want 4 time output you have to enter 5 times like(1,5)\n",
    "    print(i,\"hello world\")"
   ]
  },
  {
   "cell_type": "code",
   "execution_count": 34,
   "id": "085a6d70",
   "metadata": {},
   "outputs": [
    {
     "name": "stdout",
     "output_type": "stream",
     "text": [
      "2\n",
      "4\n",
      "6\n",
      "8\n",
      "10\n",
      "12\n",
      "14\n",
      "16\n",
      "18\n",
      "20\n"
     ]
    }
   ],
   "source": [
    "#print tables  \n",
    "\n",
    "for i in range (1,11):  \n",
    "    print(i*2)"
   ]
  },
  {
   "cell_type": "code",
   "execution_count": 35,
   "id": "55c477e3",
   "metadata": {},
   "outputs": [
    {
     "name": "stdout",
     "output_type": "stream",
     "text": [
      "2 x 1 = 2\n",
      "2 x 2 = 4\n",
      "2 x 3 = 6\n",
      "2 x 4 = 8\n",
      "2 x 5 = 10\n",
      "2 x 6 = 12\n",
      "2 x 7 = 14\n",
      "2 x 8 = 16\n",
      "2 x 9 = 18\n",
      "2 x 10 = 20\n"
     ]
    }
   ],
   "source": [
    "#print tables  \n",
    "\n",
    "for i in range (1,11):  \n",
    "    print(\"2\",\"x\",i,\"=\",i*2)\n",
    "    "
   ]
  },
  {
   "cell_type": "code",
   "execution_count": 38,
   "id": "2fa777d4",
   "metadata": {},
   "outputs": [
    {
     "name": "stdout",
     "output_type": "stream",
     "text": [
      "enter the number:5\n",
      "5 x 1   = 5\n",
      "5 x 2   = 10\n",
      "5 x 3   = 15\n",
      "5 x 4   = 20\n",
      "5 x 5   = 25\n",
      "5 x 6   = 30\n",
      "5 x 7   = 35\n",
      "5 x 8   = 40\n",
      "5 x 9   = 45\n",
      "5 x 10   = 50\n"
     ]
    }
   ],
   "source": [
    "#print tables  \n",
    "a  = int(input(\"enter the number:\"))\n",
    "for i in range (1,11):  \n",
    "    print(a,\"x\",i,\"  =\",i*a)\n"
   ]
  },
  {
   "cell_type": "code",
   "execution_count": 39,
   "id": "ed052503",
   "metadata": {},
   "outputs": [
    {
     "name": "stdout",
     "output_type": "stream",
     "text": [
      "ram\n",
      "ram\n",
      "ram\n",
      "ram\n",
      "ram\n",
      "ram\n",
      "ram\n",
      "ram\n",
      "ram\n",
      "ram\n"
     ]
    }
   ],
   "source": [
    "num = 10\n",
    "for ram in range (1,11):  \n",
    "    print(\"ram\")\n"
   ]
  },
  {
   "cell_type": "code",
   "execution_count": 42,
   "id": "3bf502f7",
   "metadata": {},
   "outputs": [
    {
     "name": "stdout",
     "output_type": "stream",
     "text": [
      "1\n",
      "3\n",
      "5\n",
      "7\n",
      "9\n"
     ]
    }
   ],
   "source": [
    "#getting  2 defference values 2 value sodun print mag part 2 value print\n",
    "for i in range (1,11,2):  \n",
    "    print(i)\n"
   ]
  },
  {
   "cell_type": "code",
   "execution_count": 49,
   "id": "6ec63b91",
   "metadata": {},
   "outputs": [
    {
     "name": "stdout",
     "output_type": "stream",
     "text": [
      "H\n",
      "e\n",
      "l\n",
      "l\n",
      "o\n",
      " \n",
      "p\n",
      "y\n",
      "t\n",
      "h\n",
      "o\n",
      "n\n"
     ]
    }
   ],
   "source": [
    "\n",
    "for i in \"Hello python\":  \n",
    "    print(i)\n"
   ]
  },
  {
   "cell_type": "code",
   "execution_count": 53,
   "id": "0b9c03ff",
   "metadata": {},
   "outputs": [
    {
     "name": "stdout",
     "output_type": "stream",
     "text": [
      "1 = odd number\n",
      "2 = even number\n",
      "3 = odd number\n",
      "4 = even number\n",
      "5 = odd number\n",
      "6 = even number\n",
      "7 = odd number\n",
      "8 = even number\n",
      "9 = odd number\n",
      "10 = even number\n"
     ]
    }
   ],
   "source": [
    "#even or odd program\n",
    "for i in range (1,11):\n",
    "    if (i%2==0):\n",
    "        print(i,\"=\",\"even number\")\n",
    "    else:\n",
    "        print(i,\"=\",\"odd number\")"
   ]
  },
  {
   "cell_type": "code",
   "execution_count": null,
   "id": "061ed531",
   "metadata": {},
   "outputs": [],
   "source": []
  },
  {
   "cell_type": "code",
   "execution_count": null,
   "id": "8da512ed",
   "metadata": {},
   "outputs": [],
   "source": []
  }
 ],
 "metadata": {
  "kernelspec": {
   "display_name": "Python 3 (ipykernel)",
   "language": "python",
   "name": "python3"
  },
  "language_info": {
   "codemirror_mode": {
    "name": "ipython",
    "version": 3
   },
   "file_extension": ".py",
   "mimetype": "text/x-python",
   "name": "python",
   "nbconvert_exporter": "python",
   "pygments_lexer": "ipython3",
   "version": "3.11.4"
  }
 },
 "nbformat": 4,
 "nbformat_minor": 5
}
