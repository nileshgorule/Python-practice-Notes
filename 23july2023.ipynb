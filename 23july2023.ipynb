{
 "cells": [
  {
   "cell_type": "code",
   "execution_count": 1,
   "id": "748726aa",
   "metadata": {},
   "outputs": [],
   "source": [
    "#while loop\n",
    "\n",
    "#repedeatly execute a block of code while a condition is true\n",
    "\n",
    "#syntax:\n",
    "#   while condition:\n",
    "#         statement"
   ]
  },
  {
   "cell_type": "code",
   "execution_count": 4,
   "id": "4d3d05f4",
   "metadata": {},
   "outputs": [
    {
     "name": "stdout",
     "output_type": "stream",
     "text": [
      "1\n",
      "2\n",
      "3\n",
      "4\n",
      "5\n",
      "6\n",
      "7\n",
      "8\n",
      "9\n",
      "10\n"
     ]
    }
   ],
   "source": [
    "#exaample\n",
    "\n",
    "num = 1          #first execute\n",
    "while num<=10:#checking condtion\n",
    "    print(num)#printing \n",
    "    num = num+1  #condition executeing "
   ]
  },
  {
   "cell_type": "code",
   "execution_count": 8,
   "id": "04ceb128",
   "metadata": {},
   "outputs": [
    {
     "name": "stdout",
     "output_type": "stream",
     "text": [
      "Hello world\n",
      "Hello world\n",
      "Hello world\n",
      "Hello world\n",
      "Hello world\n",
      "Hello world\n",
      "Hello world\n",
      "Hello world\n",
      "Hello world\n",
      "Hello world\n"
     ]
    }
   ],
   "source": [
    "counter = 1 \n",
    "while counter <=10:\n",
    "    print(\"Hello world\")\n",
    "    counter = counter+1"
   ]
  },
  {
   "cell_type": "code",
   "execution_count": 10,
   "id": "4db4f9bd",
   "metadata": {},
   "outputs": [
    {
     "name": "stdout",
     "output_type": "stream",
     "text": [
      "1\n",
      "2\n",
      "3\n",
      "4\n",
      "5\n",
      "6\n",
      "7\n",
      "8\n",
      "9\n",
      "10\n"
     ]
    }
   ],
   "source": [
    "#ascending order\n",
    "num = 1\n",
    "while num <=10:\n",
    "    print(num)\n",
    "    num = num+1\n",
    "    "
   ]
  },
  {
   "cell_type": "code",
   "execution_count": 23,
   "id": "465f87f8",
   "metadata": {},
   "outputs": [
    {
     "name": "stdout",
     "output_type": "stream",
     "text": [
      "10\n",
      "9\n",
      "8\n",
      "7\n",
      "6\n",
      "5\n",
      "4\n",
      "3\n",
      "2\n",
      "1\n"
     ]
    }
   ],
   "source": [
    "#descending order \n",
    "\n",
    "num = 10\n",
    "while num >=1:\n",
    "    print(num)\n",
    "    num = num-1\n",
    "    "
   ]
  },
  {
   "cell_type": "code",
   "execution_count": 30,
   "id": "13adf4ec",
   "metadata": {},
   "outputs": [
    {
     "name": "stdout",
     "output_type": "stream",
     "text": [
      "10\n",
      "7\n",
      "4\n",
      "1\n"
     ]
    }
   ],
   "source": [
    "#exculding  values by 3\n",
    "num = 10\n",
    "while num >=1 :\n",
    "    print(num)\n",
    "    num = num-3\n",
    "    "
   ]
  },
  {
   "cell_type": "code",
   "execution_count": 32,
   "id": "bb947b5d",
   "metadata": {},
   "outputs": [
    {
     "name": "stdout",
     "output_type": "stream",
     "text": [
      "*\n",
      "**\n",
      "***\n",
      "****\n",
      "*****\n"
     ]
    }
   ],
   "source": [
    "r = 5\n",
    "i = 1\n",
    "while i<=r:\n",
    "    print(\"*\" * i)\n",
    "    i = i + 1"
   ]
  },
  {
   "cell_type": "code",
   "execution_count": 2,
   "id": "4d777a52",
   "metadata": {},
   "outputs": [
    {
     "name": "stdout",
     "output_type": "stream",
     "text": [
      "11\n"
     ]
    }
   ],
   "source": [
    "a = 10\n",
    "a = a+1\n",
    "print(a)\n"
   ]
  },
  {
   "cell_type": "code",
   "execution_count": 3,
   "id": "7c2bfd11",
   "metadata": {},
   "outputs": [
    {
     "name": "stdout",
     "output_type": "stream",
     "text": [
      "*****\n",
      "****\n",
      "***\n",
      "**\n",
      "*\n"
     ]
    }
   ],
   "source": [
    "r = 1\n",
    "i = 5\n",
    "while i>=r:\n",
    "    print(\"*\" * i)\n",
    "    i = i - 1"
   ]
  },
  {
   "cell_type": "code",
   "execution_count": 14,
   "id": "8c7a7eb6",
   "metadata": {},
   "outputs": [
    {
     "name": "stdout",
     "output_type": "stream",
     "text": [
      "*****\n",
      "****\n",
      "***\n",
      "**\n",
      "*\n",
      "**\n",
      "***\n",
      "****\n",
      "*****\n"
     ]
    }
   ],
   "source": [
    "r = 2\n",
    "i = 5\n",
    "while i>=r:\n",
    "    print(\"*\" * i)\n",
    "    i = i - 1\n",
    "    \n",
    "a = 5\n",
    "b = 1\n",
    "while b<=a:\n",
    "    print(\"*\" * b)\n",
    "    b = b + 1"
   ]
  },
  {
   "cell_type": "raw",
   "id": "f4d6b8f1",
   "metadata": {},
   "source": [
    "Control statement/Transfer statement\n",
    "1.break statement:\n",
    "    use to exit or terminate the  current loop prematurely.\n"
   ]
  },
  {
   "cell_type": "code",
   "execution_count": 18,
   "id": "680a1c9a",
   "metadata": {},
   "outputs": [
    {
     "name": "stdout",
     "output_type": "stream",
     "text": [
      "1\n",
      "2\n",
      "3\n",
      "4\n",
      "5\n",
      "end loop\n"
     ]
    }
   ],
   "source": [
    "#program for break statement\n",
    "\n",
    "for i in range(1,11):\n",
    "    if i == 6 :\n",
    "        break    \n",
    "    print(i)\n",
    "print(\"end loop\")"
   ]
  },
  {
   "cell_type": "raw",
   "id": "1b59ddf9",
   "metadata": {},
   "source": [
    "2.continue statement\n",
    "\n",
    "    Skip the current iteration of the loop and proceed to the next iteration."
   ]
  },
  {
   "cell_type": "code",
   "execution_count": 1,
   "id": "a1157bc9",
   "metadata": {},
   "outputs": [
    {
     "name": "stdout",
     "output_type": "stream",
     "text": [
      "1\n",
      "2\n",
      "3\n",
      "4\n",
      "5\n",
      "7\n",
      "8\n",
      "9\n",
      "10\n",
      "end loop\n"
     ]
    }
   ],
   "source": [
    "#program for continue statement\n",
    "\n",
    "for i in range(1,11):\n",
    "    if i == 6 :    \n",
    "        continue   \n",
    "    print(i)\n",
    "print(\"end loop\")\n",
    "\n",
    "\n",
    "#just look at code above this quit similar but only difference break statement has change with continue.\n",
    "#second measure difference with output look at below 6 is excludeed form 1 to 10 numbers.\n",
    "#if we doesn't want any value we will simply truncate that value using continue statement."
   ]
  },
  {
   "cell_type": "raw",
   "id": "92e600ac",
   "metadata": {},
   "source": [
    "pass statement\n",
    "\n",
    "    does nothing use as placeholder when a statement is syntactically  required but you don't want any code excuted."
   ]
  },
  {
   "cell_type": "code",
   "execution_count": 11,
   "id": "e9386b1c",
   "metadata": {},
   "outputs": [
    {
     "name": "stdout",
     "output_type": "stream",
     "text": [
      "1\n",
      "2\n",
      "3\n",
      "4\n",
      "5\n",
      "6\n",
      "7\n",
      "8\n",
      "9\n",
      "10\n",
      "end loop\n"
     ]
    }
   ],
   "source": [
    "#program for pass statement\n",
    "\n",
    "#1\n",
    "for i in range(1,11):\n",
    "    if i == 6 :    \n",
    "        pass  \n",
    "    print(i)\n",
    "print(\"end loop\")"
   ]
  },
  {
   "cell_type": "code",
   "execution_count": 12,
   "id": "79cea746",
   "metadata": {},
   "outputs": [
    {
     "name": "stdout",
     "output_type": "stream",
     "text": [
      "2 lesser than 5\n"
     ]
    }
   ],
   "source": [
    "i = 2\n",
    "if i < 5:\n",
    "    print(i,\"lesser than 5\")\n",
    "    pass\n",
    "else:\n",
    "    print(\"invalid input\")"
   ]
  },
  {
   "cell_type": "code",
   "execution_count": 19,
   "id": "b0d3543d",
   "metadata": {},
   "outputs": [
    {
     "name": "stdout",
     "output_type": "stream",
     "text": [
      "2 lesser than 5\n"
     ]
    }
   ],
   "source": [
    "i = 2\n",
    "if i < 5:\n",
    "    print(i,\"lesser than 5\")\n",
    "    pass\n",
    "else:\n",
    "    print(\"invalid input\")"
   ]
  },
  {
   "cell_type": "markdown",
   "id": "1ff4c1c1",
   "metadata": {},
   "source": [
    "# DATA STRUCTURE IN PYTHON"
   ]
  },
  {
   "cell_type": "code",
   "execution_count": 21,
   "id": "ed152122",
   "metadata": {},
   "outputs": [
    {
     "name": "stdout",
     "output_type": "stream",
     "text": [
      "<class 'list'>\n"
     ]
    }
   ],
   "source": [
    "# LIST\n",
    "\n",
    "name = [\"alex\",\"bob\",\"krish\",\"salman\"]\n",
    "print(type(name))\n"
   ]
  },
  {
   "cell_type": "code",
   "execution_count": 23,
   "id": "f32a2fa9",
   "metadata": {},
   "outputs": [
    {
     "name": "stdout",
     "output_type": "stream",
     "text": [
      "['alex', 'bob', 'krish', 'salman']\n"
     ]
    }
   ],
   "source": [
    "name = [\"alex\",\"bob\",\"krish\",\"salman\"]\n",
    "print(name)\n"
   ]
  },
  {
   "cell_type": "code",
   "execution_count": 26,
   "id": "549f5bd0",
   "metadata": {},
   "outputs": [
    {
     "name": "stdout",
     "output_type": "stream",
     "text": [
      "alex\n",
      "alex bob\n",
      "salman\n"
     ]
    }
   ],
   "source": [
    "#indexing  printing one value  from list\n",
    "\n",
    "name = [\"alex\",\"bob\",\"krish\",\"salman\"]\n",
    "print(name[0])       #index value starts from 0\n",
    "print(name[0],name[1])\n",
    "print(name[3])"
   ]
  },
  {
   "cell_type": "code",
   "execution_count": 29,
   "id": "db47b287",
   "metadata": {},
   "outputs": [
    {
     "name": "stdout",
     "output_type": "stream",
     "text": [
      "sita\n"
     ]
    }
   ],
   "source": [
    "#indexing in list positive index \n",
    "\n",
    "name = [\"alex\",\"bob\",\"krish\",\"salman\",\"lata\",\"sita\"]\n",
    "print(name[5])  # <-----if you enter[6]you will get index erroe because index starts from 0 we have 6 values but problem is first value contain 0 index so it  starts from 0 \n"
   ]
  },
  {
   "cell_type": "markdown",
   "id": "8491e622",
   "metadata": {},
   "source": [
    "# slicing in list\n"
   ]
  },
  {
   "cell_type": "code",
   "execution_count": 32,
   "id": "714a7026",
   "metadata": {},
   "outputs": [
    {
     "name": "stdout",
     "output_type": "stream",
     "text": [
      "['bob']\n",
      "['bob', 'krish']\n",
      "['salman', 'lata']\n",
      "[]\n",
      "[]\n"
     ]
    }
   ],
   "source": [
    "name = [\"alex\",\"bob\",\"krish\",\"salman\",\"lata\",\"sita\"]\n",
    "print(name[1:2])  #we count list from 0 so it wiil as 0=alex,1=bob,2=krish it start from 1 and stop index is 2\n",
    "print(name[1:3])  #we count list from 0 so it wiil as 0=alex,1=bob,2=krish,3 = krish it start from 1 and stop index is 3\n",
    "print(name[3:5])  # stating index is 3=salman,ending index is 5=sita but end value doesn't printed.  \n",
    "print(name[6:6])  # no starting and ending value is present so it will show empty list if you add some more value it is excuted. \n",
    "print(name[6:7])\n"
   ]
  },
  {
   "cell_type": "code",
   "execution_count": 35,
   "id": "1cceaf04",
   "metadata": {},
   "outputs": [
    {
     "name": "stdout",
     "output_type": "stream",
     "text": [
      "sita\n",
      "bob\n",
      "alex\n"
     ]
    }
   ],
   "source": [
    "#negative indexing\n",
    "\n",
    "name = [\"alex\",\"bob\",\"krish\",\"salman\",\"lata\",\"sita\"]\n",
    "print(name[-1]) #it will goes backward direction from last value of list -1 = sita \n",
    "print(name[-5])\n",
    "print(name[-0])"
   ]
  },
  {
   "cell_type": "code",
   "execution_count": 2,
   "id": "c1f0be97",
   "metadata": {},
   "outputs": [
    {
     "name": "stdout",
     "output_type": "stream",
     "text": [
      "[100, 20, 80, 55, 70]\n",
      "70\n",
      "80\n",
      "80\n",
      "[100, 20, 80]\n",
      "[55, 70]\n",
      "20\n",
      "[100, 20]\n"
     ]
    }
   ],
   "source": [
    "marks=[100,20,80,55,70]\n",
    "print(marks) #printing entire match\n",
    "print(marks[4]) #printing index value\n",
    "print(marks[2]) #printing one value\n",
    "print(marks[-3]) #printing negative value\n",
    "print(marks[:3]) #output will goes till index value 3 and then stop\n",
    "print(marks[3:]) #list will starts with index 3 and go till end \n",
    "print(marks[1]) #first index value will be show\n",
    "print(marks[0:2]) #staing index value 0 and ending value 2"
   ]
  },
  {
   "cell_type": "code",
   "execution_count": 10,
   "id": "486291f5",
   "metadata": {},
   "outputs": [
    {
     "name": "stdout",
     "output_type": "stream",
     "text": [
      "[100, 20, 80]\n",
      "[100, 80, 70, 100]\n",
      "[100, 80, 70, 100, 11]\n",
      "[100, 20, 80, 55, 70, 80, 100, 20, 11, 22]\n",
      "[100, 55, 100, 22]\n",
      "[100, 55, 100, 22]\n"
     ]
    }
   ],
   "source": [
    "#important list program \n",
    "\n",
    "\n",
    "marks=[100,20,80,55,70,80,100,20,11,22,55,100]\n",
    "print(marks[0:3:1]) #starts with 0 index will goes till index 3 with difference 1\n",
    "print(marks[0:8:2]) #starts with 0 index will goes till index 8 with difference 2\n",
    "print(marks[0:10:2]) #starts with 0 index will goes till index 10 with difference 2\n",
    "print(marks[0:10:1]) #starts with 0 index will goes till index 10 with difference 1\n",
    "print(marks[0:10:3]) #starts with 0 index will goes till index 10 with difference 3\n",
    "print(marks[0: :3]) #starts with 0 index will goes till end of the list with difference 3"
   ]
  },
  {
   "cell_type": "code",
   "execution_count": 11,
   "id": "1d039a6a",
   "metadata": {},
   "outputs": [
    {
     "name": "stdout",
     "output_type": "stream",
     "text": [
      "['Alex', 'Salman', 'Vivek']\n"
     ]
    }
   ],
   "source": [
    "name = [\"Alex\",\"Bob\",\"Krish\",\"Salman\",\"Lata\",\"Sita\",\"Vivek\"]\n",
    "print(name[: :3]) #no index define never ending index so it will goes till end with difference 3\n"
   ]
  },
  {
   "cell_type": "code",
   "execution_count": 13,
   "id": "66d9c53c",
   "metadata": {},
   "outputs": [
    {
     "name": "stdout",
     "output_type": "stream",
     "text": [
      "['alex', 'bob', 'krish', 2, 3, 4]\n",
      "krish\n",
      "<class 'str'>\n",
      "<class 'int'>\n"
     ]
    }
   ],
   "source": [
    "#how to check type of the list?\n",
    "name = [\"alex\",\"bob\",\"krish\",2,3,4]\n",
    "print(name)  #printing entire list\n",
    "print(name[2]) #printing selected value from list\n",
    "print(type(name[2])) #checking type of a value\n",
    "print(type(name[4])) ##checking type of a value"
   ]
  },
  {
   "cell_type": "code",
   "execution_count": 17,
   "id": "e3808392",
   "metadata": {},
   "outputs": [
    {
     "name": "stdout",
     "output_type": "stream",
     "text": [
      "list= ['Alex', 'Bob', 'Krish']\n",
      "result ('Alex', 'Bob')\n"
     ]
    }
   ],
   "source": [
    "Mylist = [\"Alex\",\"Bob\",\"Krish\"]\n",
    "print(\"list=\",Mylist)\n",
    "res = Mylist[0],Mylist[1]\n",
    "print(\"result\",res)"
   ]
  },
  {
   "cell_type": "code",
   "execution_count": 23,
   "id": "5f23f942",
   "metadata": {},
   "outputs": [
    {
     "name": "stdout",
     "output_type": "stream",
     "text": [
      "old list= ['Alex', 'Bob', 'Krish']\n",
      "new list= ['Alex', 'Ram', 'Krish']\n",
      "new list= ['Alex', 'Ram', 'Sita']\n"
     ]
    }
   ],
   "source": [
    "#replacing element in the list \n",
    "\n",
    "mylist = [\"Alex\",\"Bob\",\"Krish\"]\n",
    "print(\"old list=\",mylist)\n",
    "mylist[1] = \"Ram\"\n",
    "print(\"new list=\",mylist)\n",
    "mylist[2] = \"Sita\"\n",
    "print(\"new list=\",mylist)"
   ]
  },
  {
   "cell_type": "code",
   "execution_count": 24,
   "id": "e4de64b8",
   "metadata": {},
   "outputs": [
    {
     "name": "stdout",
     "output_type": "stream",
     "text": [
      "old list= ['Alex', 'Bob', 'Krish']\n",
      "new list= ['Alex', 'Bob', 'Krish', 'ram']\n"
     ]
    }
   ],
   "source": [
    "# Adding element to end of the list\n",
    "\n",
    "\n",
    "\n",
    "\n",
    "mylist = [\"Alex\",\"Bob\",\"Krish\"]\n",
    "print(\"old list=\",mylist)\n",
    "mylist.append(\"ram\")\n",
    "print(\"new list=\",mylist)"
   ]
  },
  {
   "cell_type": "code",
   "execution_count": 27,
   "id": "90d2955c",
   "metadata": {},
   "outputs": [
    {
     "name": "stdout",
     "output_type": "stream",
     "text": [
      "Enter the name to be add in the list:nil\n",
      "new list= ['Alex', 'Bob', 'Krish', 'nil']\n"
     ]
    }
   ],
   "source": [
    "mylist = [\"Alex\",\"Bob\",\"Krish\"]\n",
    "name = input(\"Enter the name to be add in the list:\")\n",
    "mylist.append(name)  #append is used only one argument\n",
    "print(\"new list=\",mylist)"
   ]
  },
  {
   "cell_type": "code",
   "execution_count": 28,
   "id": "126a6bc3",
   "metadata": {},
   "outputs": [
    {
     "name": "stdout",
     "output_type": "stream",
     "text": [
      "Enter the name to be add in the list:neel\n",
      "Enter the name to be add in the list:vinay\n",
      "Enter the name to be add in the list:rits\n",
      "Enter the name to be add in the list:tanish\n",
      "Enter the name to be add in the list:swaransh\n",
      "['Alex', 'Bob', 'Krish', 'neel', 'vinay', 'rits', 'tanish', 'swaransh']\n"
     ]
    }
   ],
   "source": [
    "#add multiple value in the list at a  one time\n",
    "mylist = [\"Alex\",\"Bob\",\"Krish\"]\n",
    "for i in range(1,6):\n",
    "    name = input(\"Enter the name to be add in the list:\")\n",
    "    mylist.append(name)\n",
    "print(mylist)"
   ]
  },
  {
   "cell_type": "code",
   "execution_count": 29,
   "id": "ab16c429",
   "metadata": {},
   "outputs": [
    {
     "name": "stdout",
     "output_type": "stream",
     "text": [
      "what city is capital of india:mumbai\n",
      "You loose the game\n"
     ]
    }
   ],
   "source": [
    "#MINI project\n",
    "\n",
    "\n",
    "question = input(\"what city is capital of india:\")\n",
    "answer = \"delhi\" \n",
    "if question == answer:\n",
    "    print(\"Correct ans! You won  Rs.2000 \")\n",
    "else:\n",
    "    print(\"You loose the game\")"
   ]
  },
  {
   "cell_type": "code",
   "execution_count": 32,
   "id": "07f7a62f",
   "metadata": {},
   "outputs": [
    {
     "name": "stdout",
     "output_type": "stream",
     "text": [
      "what city is capital of india:delhi\n",
      "Correct ans! You won  Rs.2000 \n"
     ]
    }
   ],
   "source": [
    "question = input(\"what city is capital of india:\")\n",
    "answer = \"delhi\" \n",
    "if question == answer:\n",
    "    print(\"Correct ans! You won  Rs.2000 \")\n",
    "else:\n",
    "    print(\"You loose the game\")"
   ]
  },
  {
   "cell_type": "code",
   "execution_count": 33,
   "id": "c5549bd4",
   "metadata": {},
   "outputs": [
    {
     "name": "stdout",
     "output_type": "stream",
     "text": [
      "WELCOME TO THE KBC\n",
      "which city is the capital of india:\n",
      "A.bengluru\n",
      "B.mumbai\n",
      "C.panjab\n",
      "D.New delhi\n",
      "panjab\n",
      "you loose the game\n"
     ]
    }
   ],
   "source": [
    "#live example\n",
    "print(\"WELCOME TO THE KBC\")\n",
    "print(\"which city is the capital of india:\")\n",
    "print(\"A.bengluru\")\n",
    "print(\"B.mumbai\")\n",
    "print(\"C.panjab\")\n",
    "print(\"D.New delhi\")\n",
    "user_answer = input()\n",
    "correct_answer = \"New delhi\"\n",
    "if correct_answer == user_answer:\n",
    "    print(\"Correct answer.Aap jitate ho rs 100\")\n",
    "else:\n",
    "    print(\"you loose the game\")\n",
    "    "
   ]
  },
  {
   "cell_type": "code",
   "execution_count": 34,
   "id": "763e1dfd",
   "metadata": {},
   "outputs": [
    {
     "name": "stdout",
     "output_type": "stream",
     "text": [
      "WELCOME TO THE KBC\n",
      "which city is the capital of india:\n",
      "A.bengluru\n",
      "B.mumbai\n",
      "C.panjab\n",
      "D.New delhi\n",
      "New delhi\n",
      "Correct answer.Aap jitate ho rs 100\n"
     ]
    }
   ],
   "source": [
    "#live example\n",
    "print(\"WELCOME TO THE KBC\")\n",
    "print(\"which city is the capital of india:\")\n",
    "print(\"A.bengluru\")\n",
    "print(\"B.mumbai\")\n",
    "print(\"C.panjab\")\n",
    "print(\"D.New delhi\")\n",
    "user_answer = input()\n",
    "correct_answer = \"New delhi\"\n",
    "if correct_answer == user_answer:\n",
    "    print(\"Correct answer.Aap jitate ho rs 100\")\n",
    "else:\n",
    "    print(\"you loose the game\")\n",
    "    "
   ]
  }
 ],
 "metadata": {
  "kernelspec": {
   "display_name": "Python 3 (ipykernel)",
   "language": "python",
   "name": "python3"
  },
  "language_info": {
   "codemirror_mode": {
    "name": "ipython",
    "version": 3
   },
   "file_extension": ".py",
   "mimetype": "text/x-python",
   "name": "python",
   "nbconvert_exporter": "python",
   "pygments_lexer": "ipython3",
   "version": "3.11.4"
  }
 },
 "nbformat": 4,
 "nbformat_minor": 5
}
