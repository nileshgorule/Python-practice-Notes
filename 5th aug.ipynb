{
 "cells": [
  {
   "cell_type": "markdown",
   "id": "9a6a3080",
   "metadata": {},
   "source": [
    "# function \n",
    "\n",
    "Block of code which perform some action \n",
    "\n"
   ]
  },
  {
   "cell_type": "code",
   "execution_count": null,
   "id": "bd2a5f0f",
   "metadata": {},
   "outputs": [],
   "source": [
    "#def  ---->  is important keyword "
   ]
  },
  {
   "cell_type": "code",
   "execution_count": 11,
   "id": "375aabca",
   "metadata": {},
   "outputs": [
    {
     "name": "stdout",
     "output_type": "stream",
     "text": [
      "hello world\n"
     ]
    }
   ],
   "source": [
    "def hello():\n",
    "    print(\"hello world\")\n",
    "    \n",
    "hello()"
   ]
  },
  {
   "cell_type": "code",
   "execution_count": 14,
   "id": "2c2cd191",
   "metadata": {},
   "outputs": [
    {
     "name": "stdout",
     "output_type": "stream",
     "text": [
      "I am signup function\n",
      "I am login function\n",
      "I am homepage function\n"
     ]
    }
   ],
   "source": [
    "def login():\n",
    "    print(\"I am login function\")\n",
    "def signup():\n",
    "    print(\"I am signup function\")\n",
    "def homepage():\n",
    "    print(\"I am homepage function\")\n",
    "    \n",
    "signup()\n",
    "login()\n",
    "homepage()"
   ]
  },
  {
   "cell_type": "code",
   "execution_count": 15,
   "id": "1338c14d",
   "metadata": {},
   "outputs": [
    {
     "name": "stdout",
     "output_type": "stream",
     "text": [
      "3\n"
     ]
    }
   ],
   "source": [
    "#  write a python program to add two numbers using fucntion?\n",
    "\n",
    "def add():#---> function name\n",
    "    print(1+2)  # --->function body where we are going to write logic \n",
    "    \n",
    "add() #------> fucntion calling\n"
   ]
  },
  {
   "cell_type": "code",
   "execution_count": 17,
   "id": "6b482f65",
   "metadata": {},
   "outputs": [
    {
     "name": "stdout",
     "output_type": "stream",
     "text": [
      "5\n"
     ]
    }
   ],
   "source": [
    "def add():\n",
    "    a = 2\n",
    "    b = 3\n",
    "    print(a+b)\n",
    "\n",
    "add()"
   ]
  },
  {
   "cell_type": "code",
   "execution_count": 18,
   "id": "43d29a9c",
   "metadata": {},
   "outputs": [
    {
     "name": "stdout",
     "output_type": "stream",
     "text": [
      "5\n"
     ]
    }
   ],
   "source": [
    "def add(a,b):\n",
    "    print(a+b)\n",
    "\n",
    "add(2,3)"
   ]
  },
  {
   "cell_type": "code",
   "execution_count": 23,
   "id": "a3bbfd2c",
   "metadata": {},
   "outputs": [
    {
     "ename": "TypeError",
     "evalue": "add() takes 2 positional arguments but 3 were given",
     "output_type": "error",
     "traceback": [
      "\u001b[1;31m---------------------------------------------------------------------------\u001b[0m",
      "\u001b[1;31mTypeError\u001b[0m                                 Traceback (most recent call last)",
      "Cell \u001b[1;32mIn[23], line 4\u001b[0m\n\u001b[0;32m      1\u001b[0m \u001b[38;5;28;01mdef\u001b[39;00m \u001b[38;5;21madd\u001b[39m(a,b):\n\u001b[0;32m      2\u001b[0m        \u001b[38;5;28mprint\u001b[39m(a\u001b[38;5;241m+\u001b[39mb)\n\u001b[1;32m----> 4\u001b[0m add(\u001b[38;5;241m2\u001b[39m,\u001b[38;5;241m3\u001b[39m,\u001b[38;5;241m5\u001b[39m)\n",
      "\u001b[1;31mTypeError\u001b[0m: add() takes 2 positional arguments but 3 were given"
     ]
    }
   ],
   "source": [
    "def add(a,b):\n",
    "       print(a+b)\n",
    "\n",
    "add(2,3,5)"
   ]
  },
  {
   "cell_type": "code",
   "execution_count": 25,
   "id": "29114b16",
   "metadata": {},
   "outputs": [
    {
     "name": "stdout",
     "output_type": "stream",
     "text": [
      "10\n"
     ]
    }
   ],
   "source": [
    "def add(a,b,c):\n",
    "    print(a+b+c)\n",
    "\n",
    "a = 2\n",
    "b = 3\n",
    "c = 5    \n",
    "add(a,b,c)   #user define fucntion"
   ]
  },
  {
   "cell_type": "code",
   "execution_count": 27,
   "id": "6570947c",
   "metadata": {},
   "outputs": [
    {
     "name": "stdout",
     "output_type": "stream",
     "text": [
      "Enter a no:4\n",
      "Enter a no:5\n",
      "Enter a no:6\n",
      "ans is: 15\n"
     ]
    }
   ],
   "source": [
    "def add(a,b,c):\n",
    "    print(\"ans is:\",a+b+c)\n",
    "\n",
    "a = int(input(\"Enter a no:\"))\n",
    "b = int(input(\"Enter a no:\"))\n",
    "c = int(input(\"Enter a no:\"))\n",
    "    \n",
    "add(a,b,c)   #user define fucntion"
   ]
  },
  {
   "cell_type": "code",
   "execution_count": 30,
   "id": "4aebc482",
   "metadata": {},
   "outputs": [
    {
     "name": "stdout",
     "output_type": "stream",
     "text": [
      "ans is: New York\n"
     ]
    }
   ],
   "source": [
    "def add(a,b):\n",
    "    print(\"ans is:\",a+b)\n",
    "\n",
    "a = \"New\"\n",
    "b = \" York\"\n",
    "add(a,b)   #user define fucntion"
   ]
  },
  {
   "cell_type": "code",
   "execution_count": 32,
   "id": "5a9f01d8",
   "metadata": {},
   "outputs": [
    {
     "name": "stdout",
     "output_type": "stream",
     "text": [
      "ans is:  York New\n"
     ]
    }
   ],
   "source": [
    "def add(a,b):\n",
    "    print(\"ans is:\",a+b)\n",
    "\n",
    "a = \" New\"\n",
    "b = \" York\"\n",
    "add(b,a)   #user define fucntion"
   ]
  },
  {
   "cell_type": "code",
   "execution_count": 33,
   "id": "311cab24",
   "metadata": {},
   "outputs": [
    {
     "name": "stdout",
     "output_type": "stream",
     "text": [
      "newyork\n"
     ]
    }
   ],
   "source": [
    "# keyword base arguments\n",
    "\n",
    "def add(a,b):\n",
    "    print(a+b)\n",
    "    \n",
    "add(b = \"york\" ,a = \"new\" )"
   ]
  },
  {
   "cell_type": "code",
   "execution_count": 35,
   "id": "4bae7889",
   "metadata": {},
   "outputs": [
    {
     "name": "stdout",
     "output_type": "stream",
     "text": [
      "alex from India\n"
     ]
    }
   ],
   "source": [
    "#default arguments\n",
    "\n",
    "\n",
    "def flipkart(username,country):\n",
    "    print(username+\" from \"+country)\n",
    "    \n",
    "flipkart(username =\"alex\",country = \"India\")"
   ]
  },
  {
   "cell_type": "code",
   "execution_count": 37,
   "id": "babd5d6f",
   "metadata": {},
   "outputs": [
    {
     "name": "stdout",
     "output_type": "stream",
     "text": [
      "ram from India\n"
     ]
    }
   ],
   "source": [
    "def flipkart(username,country=\"India\"):\n",
    "    print(username+\" from \"+country)\n",
    "    \n",
    "flipkart(username =\"ram\")"
   ]
  },
  {
   "cell_type": "code",
   "execution_count": 38,
   "id": "5dedf139",
   "metadata": {},
   "outputs": [
    {
     "name": "stdout",
     "output_type": "stream",
     "text": [
      "2 even number\n",
      "4 even number\n",
      "6 even number\n",
      "8 even number\n"
     ]
    }
   ],
   "source": [
    "#write a pythom program to print all even no from the list?\n",
    "\n",
    "\n",
    "def even(num):\n",
    "    for i in num:\n",
    "        if i%2 ==0:\n",
    "            print(i,\"even number\")\n",
    "            \n",
    "            \n",
    "num = [1,2,3,4,5,6,7,8,9]\n",
    "even(num)"
   ]
  },
  {
   "cell_type": "code",
   "execution_count": 39,
   "id": "1465533c",
   "metadata": {},
   "outputs": [
    {
     "name": "stdout",
     "output_type": "stream",
     "text": [
      "1 odd number\n",
      "3 odd number\n",
      "5 odd number\n",
      "7 odd number\n",
      "9 odd number\n"
     ]
    }
   ],
   "source": [
    "#write a pythom program to print all odd no from the list?\n",
    "\n",
    "\n",
    "def even(num):\n",
    "    for i in num:\n",
    "        if i%2 !=0:\n",
    "            print(i,\"odd number\")\n",
    "            \n",
    "            \n",
    "num = [1,2,3,4,5,6,7,8,9]\n",
    "even(num)"
   ]
  },
  {
   "cell_type": "code",
   "execution_count": 46,
   "id": "69756f74",
   "metadata": {},
   "outputs": [
    {
     "name": "stdout",
     "output_type": "stream",
     "text": [
      "65 =no is greater\n",
      "67 =no is greater\n",
      "89 =no is greater\n"
     ]
    }
   ],
   "source": [
    "#write a profram to print numbers which is greator than 50\n",
    "\n",
    "def greater(num):\n",
    "    for i in num:\n",
    "        if i> 50:\n",
    "            print(i,\"=no is greater\")\n",
    "\n",
    "\n",
    "num =[1,21,22,3,4,5,23,65,45,67,89]\n",
    "greater(num)\n"
   ]
  },
  {
   "cell_type": "code",
   "execution_count": 49,
   "id": "dac869fc",
   "metadata": {},
   "outputs": [
    {
     "name": "stdout",
     "output_type": "stream",
     "text": [
      "1 odd no\n",
      "2 Even no\n",
      "3 odd no\n",
      "4 Even no\n",
      "5 odd no\n",
      "6 Even no\n"
     ]
    }
   ],
   "source": [
    "num = [1,2,3,4,5,6]\n",
    "for i in num:\n",
    "    if i in num:\n",
    "        if i%2 == 0:\n",
    "            print(i,\"Even no\")\n",
    "            pass\n",
    "        else:\n",
    "            print(i,\"odd no\")"
   ]
  },
  {
   "cell_type": "markdown",
   "id": "dd8fd8ec",
   "metadata": {},
   "source": [
    "# lambda programming"
   ]
  },
  {
   "cell_type": "code",
   "execution_count": null,
   "id": "c8e7ed7a",
   "metadata": {},
   "outputs": [],
   "source": [
    "#also called unknown function"
   ]
  },
  {
   "cell_type": "code",
   "execution_count": 51,
   "id": "cda77d86",
   "metadata": {},
   "outputs": [
    {
     "name": "stdout",
     "output_type": "stream",
     "text": [
      "15\n"
     ]
    }
   ],
   "source": [
    "res = lambda a:a+10\n",
    "print(res(5))"
   ]
  },
  {
   "cell_type": "code",
   "execution_count": 52,
   "id": "9656ecd7",
   "metadata": {},
   "outputs": [
    {
     "name": "stdout",
     "output_type": "stream",
     "text": [
      "25\n"
     ]
    }
   ],
   "source": [
    "#with fucntion\n",
    "\n",
    "def add(a):\n",
    "    print(a+20)\n",
    "    \n",
    "add(5)"
   ]
  },
  {
   "cell_type": "code",
   "execution_count": 53,
   "id": "dfa3113e",
   "metadata": {},
   "outputs": [
    {
     "name": "stdout",
     "output_type": "stream",
     "text": [
      "25\n"
     ]
    }
   ],
   "source": [
    "\n",
    "#with addition \n",
    "add = lambda a:a+20\n",
    "print(add(5))"
   ]
  },
  {
   "cell_type": "code",
   "execution_count": 54,
   "id": "ed74ba21",
   "metadata": {},
   "outputs": [
    {
     "name": "stdout",
     "output_type": "stream",
     "text": [
      "100\n"
     ]
    }
   ],
   "source": [
    "#with multiplication\n",
    "\n",
    "add = lambda a:a*20\n",
    "print(add(5))"
   ]
  },
  {
   "cell_type": "code",
   "execution_count": 55,
   "id": "1ee3828f",
   "metadata": {},
   "outputs": [
    {
     "name": "stdout",
     "output_type": "stream",
     "text": [
      "30\n"
     ]
    }
   ],
   "source": [
    "res = lambda a,b:a*b\n",
    "print(res(5,6))"
   ]
  },
  {
   "cell_type": "code",
   "execution_count": 62,
   "id": "2fbda115",
   "metadata": {},
   "outputs": [
    {
     "ename": "SyntaxError",
     "evalue": "invalid syntax (2431206422.py, line 1)",
     "output_type": "error",
     "traceback": [
      "\u001b[1;36m  Cell \u001b[1;32mIn[62], line 1\u001b[1;36m\u001b[0m\n\u001b[1;33m    def lambda(a,b):\u001b[0m\n\u001b[1;37m        ^\u001b[0m\n\u001b[1;31mSyntaxError\u001b[0m\u001b[1;31m:\u001b[0m invalid syntax\n"
     ]
    }
   ],
   "source": [
    "def lambda(a,b):\n",
    "    print(a*b)\n",
    "lambda(5,6)    "
   ]
  },
  {
   "cell_type": "code",
   "execution_count": 63,
   "id": "52bb7355",
   "metadata": {},
   "outputs": [
    {
     "name": "stdout",
     "output_type": "stream",
     "text": [
      "30\n"
     ]
    }
   ],
   "source": [
    "# return statement\n",
    "\n",
    "def res(a,b):\n",
    "    return a*b\n",
    "a =res(5,6)\n",
    "print(a)"
   ]
  },
  {
   "cell_type": "code",
   "execution_count": 65,
   "id": "2ab22a08",
   "metadata": {},
   "outputs": [
    {
     "name": "stdout",
     "output_type": "stream",
     "text": [
      "11\n"
     ]
    }
   ],
   "source": [
    "# return statement\n",
    "\n",
    "def res(a,b):\n",
    "    return a+b\n",
    "a =res(5,6)\n",
    "print(a)"
   ]
  },
  {
   "cell_type": "code",
   "execution_count": 66,
   "id": "be6a1b02",
   "metadata": {},
   "outputs": [
    {
     "name": "stdout",
     "output_type": "stream",
     "text": [
      "-1\n"
     ]
    }
   ],
   "source": [
    "# return statement\n",
    "\n",
    "def res(a,b):\n",
    "    return a-b\n",
    "a =res(5,6)\n",
    "print(a)"
   ]
  },
  {
   "cell_type": "code",
   "execution_count": 67,
   "id": "810a843d",
   "metadata": {},
   "outputs": [
    {
     "name": "stdout",
     "output_type": "stream",
     "text": [
      "(10, 20, 30)\n"
     ]
    }
   ],
   "source": [
    "def res():\n",
    "    return 10,20,30\n",
    "a =res()\n",
    "print(a)"
   ]
  },
  {
   "cell_type": "code",
   "execution_count": 68,
   "id": "f75d3da3",
   "metadata": {},
   "outputs": [
    {
     "name": "stdout",
     "output_type": "stream",
     "text": [
      "90\n"
     ]
    }
   ],
   "source": [
    "def exam(a,b,c):\n",
    "    res = a+b+c\n",
    "    return res\n",
    "a = exam(20,30,40)\n",
    "print(a)"
   ]
  },
  {
   "cell_type": "code",
   "execution_count": 69,
   "id": "ecfe4687",
   "metadata": {},
   "outputs": [
    {
     "name": "stdout",
     "output_type": "stream",
     "text": [
      "90\n"
     ]
    }
   ],
   "source": [
    "res = lambda a,b,c:a+b+c\n",
    "print(res(20,30,40))"
   ]
  },
  {
   "cell_type": "code",
   "execution_count": 71,
   "id": "bb6ae2a0",
   "metadata": {},
   "outputs": [
    {
     "name": "stdout",
     "output_type": "stream",
     "text": [
      "even number\n"
     ]
    }
   ],
   "source": [
    "res = lambda a:a%2==0\n",
    "r = res(2)\n",
    "if r==True:\n",
    "    print(\"even number\")\n",
    "    "
   ]
  },
  {
   "cell_type": "markdown",
   "id": "2dfe5014",
   "metadata": {},
   "source": [
    "# modules"
   ]
  },
  {
   "cell_type": "code",
   "execution_count": 72,
   "id": "488b9c7f",
   "metadata": {},
   "outputs": [
    {
     "name": "stdout",
     "output_type": "stream",
     "text": [
      "5.0\n"
     ]
    }
   ],
   "source": [
    "import math\n",
    "result = math.sqrt(25)\n",
    "print(result)"
   ]
  },
  {
   "cell_type": "code",
   "execution_count": 73,
   "id": "e912be78",
   "metadata": {},
   "outputs": [
    {
     "name": "stdout",
     "output_type": "stream",
     "text": [
      "Enter no:5\n",
      "5.0\n"
     ]
    }
   ],
   "source": [
    "import math\n",
    "num = int(input(\"Enter no:\")) \n",
    "print(result)"
   ]
  },
  {
   "cell_type": "code",
   "execution_count": 74,
   "id": "a5b3e856",
   "metadata": {},
   "outputs": [
    {
     "name": "stdout",
     "output_type": "stream",
     "text": [
      "8.0\n"
     ]
    }
   ],
   "source": [
    "import math\n",
    "res = math.pow(2,3)\n",
    "print(res)"
   ]
  },
  {
   "cell_type": "code",
   "execution_count": 76,
   "id": "fbaab49b",
   "metadata": {},
   "outputs": [
    {
     "name": "stdout",
     "output_type": "stream",
     "text": [
      "8.0\n"
     ]
    }
   ],
   "source": [
    "import math\n",
    "res = math.pow(2,3)\n",
    "print(res)"
   ]
  },
  {
   "cell_type": "code",
   "execution_count": 81,
   "id": "2cf68e8f",
   "metadata": {},
   "outputs": [
    {
     "ename": "AttributeError",
     "evalue": "module 'math' has no attribute 'round'",
     "output_type": "error",
     "traceback": [
      "\u001b[1;31m---------------------------------------------------------------------------\u001b[0m",
      "\u001b[1;31mAttributeError\u001b[0m                            Traceback (most recent call last)",
      "Cell \u001b[1;32mIn[81], line 2\u001b[0m\n\u001b[0;32m      1\u001b[0m \u001b[38;5;28;01mimport\u001b[39;00m \u001b[38;5;21;01mmath\u001b[39;00m\n\u001b[1;32m----> 2\u001b[0m res \u001b[38;5;241m=\u001b[39m math\u001b[38;5;241m.\u001b[39mround(\u001b[38;5;241m2\u001b[39m,\u001b[38;5;241m3\u001b[39m)\n\u001b[0;32m      3\u001b[0m \u001b[38;5;28mprint\u001b[39m(res)\n",
      "\u001b[1;31mAttributeError\u001b[0m: module 'math' has no attribute 'round'"
     ]
    }
   ],
   "source": [
    "import math\n",
    "res = math.round(2,3)\n",
    "print(res)"
   ]
  },
  {
   "cell_type": "code",
   "execution_count": 79,
   "id": "cf4cd376",
   "metadata": {},
   "outputs": [
    {
     "name": "stdout",
     "output_type": "stream",
     "text": [
      "3.141592653589793\n"
     ]
    }
   ],
   "source": [
    "import math\n",
    "print(math.pi)"
   ]
  },
  {
   "cell_type": "code",
   "execution_count": 80,
   "id": "1e26d9f3",
   "metadata": {},
   "outputs": [
    {
     "name": "stdout",
     "output_type": "stream",
     "text": [
      "2.718281828459045\n"
     ]
    }
   ],
   "source": [
    "import math\n",
    "print(math.e)"
   ]
  },
  {
   "cell_type": "code",
   "execution_count": 83,
   "id": "6d6fa273",
   "metadata": {},
   "outputs": [
    {
     "name": "stdout",
     "output_type": "stream",
     "text": [
      "0.5013836448405281\n"
     ]
    }
   ],
   "source": [
    "#random module\n",
    "\n",
    "import random\n",
    "r = random.random()\n",
    "print(r)\n"
   ]
  },
  {
   "cell_type": "code",
   "execution_count": 84,
   "id": "1cf6f31d",
   "metadata": {},
   "outputs": [
    {
     "name": "stdout",
     "output_type": "stream",
     "text": [
      "5\n"
     ]
    }
   ],
   "source": [
    "import random\n",
    "r = random.randint(1,10)\n",
    "print(r)\n"
   ]
  },
  {
   "cell_type": "code",
   "execution_count": 2,
   "id": "2f274af1",
   "metadata": {},
   "outputs": [
    {
     "name": "stdout",
     "output_type": "stream",
     "text": [
      "guess the number\n",
      "2\n",
      "You loose the game\n"
     ]
    }
   ],
   "source": [
    "import random\n",
    "print(\"guess the number\")\n",
    "inp = int(input())\n",
    "r = random.randint(1,10)\n",
    "if r == inp:\n",
    "    print(\"You won the game\")\n",
    "else:\n",
    "    print(\"You loose the game\")"
   ]
  }
 ],
 "metadata": {
  "kernelspec": {
   "display_name": "Python 3 (ipykernel)",
   "language": "python",
   "name": "python3"
  },
  "language_info": {
   "codemirror_mode": {
    "name": "ipython",
    "version": 3
   },
   "file_extension": ".py",
   "mimetype": "text/x-python",
   "name": "python",
   "nbconvert_exporter": "python",
   "pygments_lexer": "ipython3",
   "version": "3.11.4"
  }
 },
 "nbformat": 4,
 "nbformat_minor": 5
}
