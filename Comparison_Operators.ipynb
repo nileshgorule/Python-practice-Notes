{
 "cells": [
  {
   "cell_type": "markdown",
   "id": "0e37fa5b",
   "metadata": {},
   "source": [
    "\n",
    "1. \"<\" (Less than) operator:\n",
    "```python\n",
    "print(5 < 10)  # Output: True\n",
    "```\n",
    "\n",
    "2. \">\" (Greater than) operator:\n",
    "```python\n",
    "print(15 > 8)  # Output: True\n",
    "```\n",
    "\n",
    "3. \"<=\" (Less than or equal to) operator:\n",
    "```python\n",
    "print(3 <= 3)  # Output: True\n",
    "```\n",
    "\n",
    "4. \">=\" (Greater than or equal to) operator:\n",
    "```python\n",
    "print(7 >= 7)  # Output: True\n",
    "```\n",
    "\n",
    "5. \"==\" (Equal to) operator:\n",
    "```python\n",
    "print(10 == 10)  # Output: True\n",
    "```\n",
    "\n",
    "6. \"!=\" (Not equal to) operator:\n",
    "```python\n",
    "print(5 != 10)  # Output: True\n",
    "```\n"
   ]
  },
  {
   "cell_type": "code",
   "execution_count": null,
   "id": "1ff7e54b",
   "metadata": {},
   "outputs": [],
   "source": []
  }
 ],
 "metadata": {
  "kernelspec": {
   "display_name": "Python 3 (ipykernel)",
   "language": "python",
   "name": "python3"
  },
  "language_info": {
   "codemirror_mode": {
    "name": "ipython",
    "version": 3
   },
   "file_extension": ".py",
   "mimetype": "text/x-python",
   "name": "python",
   "nbconvert_exporter": "python",
   "pygments_lexer": "ipython3",
   "version": "3.11.3"
  }
 },
 "nbformat": 4,
 "nbformat_minor": 5
}
