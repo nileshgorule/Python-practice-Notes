{
 "cells": [
  {
   "cell_type": "code",
   "execution_count": 1,
   "id": "a45e46f0",
   "metadata": {},
   "outputs": [],
   "source": [
    "# If statement"
   ]
  },
  {
   "cell_type": "code",
   "execution_count": 2,
   "id": "22ae6023",
   "metadata": {},
   "outputs": [
    {
     "name": "stdout",
     "output_type": "stream",
     "text": [
      "x is greater than 5\n"
     ]
    }
   ],
   "source": [
    "x = 10\n",
    "\n",
    "if x > 5:\n",
    "    print(\"x is greater than 5\")\n"
   ]
  },
  {
   "cell_type": "code",
   "execution_count": 3,
   "id": "03317a82",
   "metadata": {},
   "outputs": [],
   "source": [
    "# If-else statement"
   ]
  },
  {
   "cell_type": "code",
   "execution_count": 4,
   "id": "c9915034",
   "metadata": {},
   "outputs": [
    {
     "name": "stdout",
     "output_type": "stream",
     "text": [
      "y is not greater than 5\n"
     ]
    }
   ],
   "source": [
    "y = 3\n",
    "\n",
    "if y > 5:\n",
    "    print(\"y is greater than 5\")\n",
    "else:\n",
    "    print(\"y is not greater than 5\")\n"
   ]
  },
  {
   "cell_type": "code",
   "execution_count": 5,
   "id": "16b05c2e",
   "metadata": {},
   "outputs": [],
   "source": [
    "# If-elif-else statement"
   ]
  },
  {
   "cell_type": "code",
   "execution_count": 6,
   "id": "22de9247",
   "metadata": {},
   "outputs": [
    {
     "name": "stdout",
     "output_type": "stream",
     "text": [
      "z is greater than 5\n"
     ]
    }
   ],
   "source": [
    "z = 7\n",
    "\n",
    "if z < 5:\n",
    "    print(\"z is less than 5\")\n",
    "elif z == 5:\n",
    "    print(\"z is equal to 5\")\n",
    "else:\n",
    "    print(\"z is greater than 5\")\n"
   ]
  },
  {
   "cell_type": "code",
   "execution_count": null,
   "id": "b799cc5b",
   "metadata": {},
   "outputs": [],
   "source": []
  }
 ],
 "metadata": {
  "kernelspec": {
   "display_name": "Python 3 (ipykernel)",
   "language": "python",
   "name": "python3"
  },
  "language_info": {
   "codemirror_mode": {
    "name": "ipython",
    "version": 3
   },
   "file_extension": ".py",
   "mimetype": "text/x-python",
   "name": "python",
   "nbconvert_exporter": "python",
   "pygments_lexer": "ipython3",
   "version": "3.11.3"
  }
 },
 "nbformat": 4,
 "nbformat_minor": 5
}
