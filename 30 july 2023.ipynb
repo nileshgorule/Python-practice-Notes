{
 "cells": [
  {
   "cell_type": "code",
   "execution_count": 3,
   "id": "505b6f48",
   "metadata": {},
   "outputs": [
    {
     "name": "stdout",
     "output_type": "stream",
     "text": [
      "[50, 20, 30]\n"
     ]
    }
   ],
   "source": [
    "# how to change the element  of the list?\n",
    "\n",
    "mylist = [10,20,30]\n",
    "mylist[0] = 50\n",
    "print(mylist)"
   ]
  },
  {
   "cell_type": "code",
   "execution_count": 4,
   "id": "311d45e8",
   "metadata": {},
   "outputs": [
    {
     "name": "stdout",
     "output_type": "stream",
     "text": [
      "[10, 20, 30]\n"
     ]
    }
   ],
   "source": [
    "# how to change the element of the tuple?\n",
    "\n",
    "mytup = (10,20,30)\n",
    "mytup1= list(mytup)\n",
    "print(mytup1)"
   ]
  },
  {
   "cell_type": "code",
   "execution_count": 11,
   "id": "e2c5bc5f",
   "metadata": {},
   "outputs": [
    {
     "name": "stdout",
     "output_type": "stream",
     "text": [
      "(50, 20, 30)\n"
     ]
    }
   ],
   "source": [
    "num = (10,20,30)\n",
    "num1 = list(num)\n",
    "num1[0] = 50\n",
    "print(tuple(num1))"
   ]
  },
  {
   "cell_type": "markdown",
   "id": "35179631",
   "metadata": {},
   "source": [
    "# set\n"
   ]
  },
  {
   "cell_type": "code",
   "execution_count": 12,
   "id": "8580ee12",
   "metadata": {},
   "outputs": [
    {
     "name": "stdout",
     "output_type": "stream",
     "text": [
      "<class 'dict'>\n"
     ]
    }
   ],
   "source": [
    "a ={}\n",
    "print(type(a))"
   ]
  },
  {
   "cell_type": "code",
   "execution_count": 13,
   "id": "116e6ae3",
   "metadata": {},
   "outputs": [
    {
     "name": "stdout",
     "output_type": "stream",
     "text": [
      "<class 'set'>\n"
     ]
    }
   ],
   "source": [
    "a ={10}\n",
    "print(type(a))"
   ]
  },
  {
   "cell_type": "code",
   "execution_count": 15,
   "id": "9c594330",
   "metadata": {},
   "outputs": [
    {
     "name": "stdout",
     "output_type": "stream",
     "text": [
      "<class 'set'>\n"
     ]
    }
   ],
   "source": [
    "#how to create a blank set?\n",
    "\n",
    "# a=[] ,a =(),a={}\n",
    "\n",
    "\n",
    "d =set()    #set is already in pythonn builtin so we need to access it when we want to create blacnk set.\n",
    "print(type(d))\n"
   ]
  },
  {
   "cell_type": "code",
   "execution_count": 16,
   "id": "1763d9cb",
   "metadata": {},
   "outputs": [
    {
     "name": "stdout",
     "output_type": "stream",
     "text": [
      "<class 'set'>\n"
     ]
    }
   ],
   "source": [
    "\n",
    "d = {1,2}    \n",
    "print(type(d))\n"
   ]
  },
  {
   "cell_type": "code",
   "execution_count": 17,
   "id": "3abd8585",
   "metadata": {},
   "outputs": [
    {
     "name": "stdout",
     "output_type": "stream",
     "text": [
      "<class 'set'>\n"
     ]
    }
   ],
   "source": [
    "\n",
    "d = {1,\"krish\"}    \n",
    "print(type(d))\n"
   ]
  },
  {
   "cell_type": "code",
   "execution_count": 18,
   "id": "c5619051",
   "metadata": {},
   "outputs": [
    {
     "name": "stdout",
     "output_type": "stream",
     "text": [
      "[1, 2, 3, 'abc', 'nepal', 'india', 'gujrat']\n"
     ]
    }
   ],
   "source": [
    "name = [1,2,3,\"abc\",\"nepal\",\"india\",\"gujrat\"]\n",
    "print(name)\n"
   ]
  },
  {
   "cell_type": "code",
   "execution_count": 20,
   "id": "b042ac58",
   "metadata": {},
   "outputs": [
    {
     "name": "stdout",
     "output_type": "stream",
     "text": [
      "<class 'set'>\n"
     ]
    }
   ],
   "source": [
    "#unordered\n",
    "\n",
    "name = {1,2,3,\"abc\",\"nepal\",\"india\",\"gujrat\"}\n",
    "print(type(name))"
   ]
  },
  {
   "cell_type": "code",
   "execution_count": 21,
   "id": "e99593b2",
   "metadata": {},
   "outputs": [
    {
     "name": "stdout",
     "output_type": "stream",
     "text": [
      "[100, 200, 100, 300, 500]\n"
     ]
    }
   ],
   "source": [
    "Student = [100,200,100,300,500]\n",
    "print(Student)\n"
   ]
  },
  {
   "cell_type": "code",
   "execution_count": 23,
   "id": "691016df",
   "metadata": {},
   "outputs": [
    {
     "name": "stdout",
     "output_type": "stream",
     "text": [
      "Duplicate is not allowed  {200, 100, 500, 300}\n"
     ]
    }
   ],
   "source": [
    "#ordered\n",
    "\n",
    "Student = {100,200,100,300,500}\n",
    "print(\"Duplicate is not allowed \",Student)\n",
    "\n",
    "#here only 100 is taken once that mean duplicates items is not allowed in the set\n"
   ]
  },
  {
   "cell_type": "code",
   "execution_count": 25,
   "id": "0feddb72",
   "metadata": {},
   "outputs": [
    {
     "name": "stdout",
     "output_type": "stream",
     "text": [
      "{'obama', 'salman', 'ram', 'krish'}\n"
     ]
    }
   ],
   "source": [
    "#add()  --> adding element in the list \n",
    "\n",
    "student = {\"ram\",\"ram\",\"salman\"}\n",
    "student.add(\"krish\")   #adding opration is performing\n",
    "student.add(\"obama\")\n",
    "print(student)"
   ]
  },
  {
   "cell_type": "code",
   "execution_count": 8,
   "id": "85b49b01",
   "metadata": {},
   "outputs": [
    {
     "name": "stdout",
     "output_type": "stream",
     "text": [
      "{'obama', 'ram', 'salman', 'krish'}\n"
     ]
    }
   ],
   "source": [
    "#Update()  --update is performaing\n",
    "\n",
    "student = {\"ram\",\"ram\",\"salman\"}\n",
    "student1 ={\"krish\",\"obama\"}\n",
    "student.update(student1) #update operation is performing\n",
    "print(student)"
   ]
  },
  {
   "cell_type": "code",
   "execution_count": 10,
   "id": "36764717",
   "metadata": {},
   "outputs": [
    {
     "ename": "TypeError",
     "evalue": "set.pop() takes no arguments (1 given)",
     "output_type": "error",
     "traceback": [
      "\u001b[1;31m---------------------------------------------------------------------------\u001b[0m",
      "\u001b[1;31mTypeError\u001b[0m                                 Traceback (most recent call last)",
      "Cell \u001b[1;32mIn[10], line 2\u001b[0m\n\u001b[0;32m      1\u001b[0m student \u001b[38;5;241m=\u001b[39m {\u001b[38;5;124m\"\u001b[39m\u001b[38;5;124mram\u001b[39m\u001b[38;5;124m\"\u001b[39m,\u001b[38;5;124m\"\u001b[39m\u001b[38;5;124msalman\u001b[39m\u001b[38;5;124m\"\u001b[39m,\u001b[38;5;124m\"\u001b[39m\u001b[38;5;124mkrish\u001b[39m\u001b[38;5;124m\"\u001b[39m,\u001b[38;5;124m\"\u001b[39m\u001b[38;5;124mrahul\u001b[39m\u001b[38;5;124m\"\u001b[39m,\u001b[38;5;124m\"\u001b[39m\u001b[38;5;124manand\u001b[39m\u001b[38;5;124m\"\u001b[39m}\n\u001b[1;32m----> 2\u001b[0m student\u001b[38;5;241m.\u001b[39mpop(\u001b[38;5;124m\"\u001b[39m\u001b[38;5;124mkrish\u001b[39m\u001b[38;5;124m\"\u001b[39m)\n",
      "\u001b[1;31mTypeError\u001b[0m: set.pop() takes no arguments (1 given)"
     ]
    }
   ],
   "source": [
    "student = {\"ram\",\"salman\",\"krish\",\"rahul\",\"anand\"}\n",
    "student.pop(\"krish\") # error given because set.pop() not taking any aruguemnet"
   ]
  },
  {
   "cell_type": "code",
   "execution_count": 7,
   "id": "27bd694d",
   "metadata": {},
   "outputs": [
    {
     "name": "stdout",
     "output_type": "stream",
     "text": [
      "{'krish', 'salman', 'rahul'}\n"
     ]
    }
   ],
   "source": [
    "#pop() --->   \n",
    "student = {\"ram\",\"salman\",\"krish\",\"rahul\",\"anand\"}\n",
    "student.pop()  #here pop will remove set item ram\n",
    "student.pop() # if we use second time  pop in our program it will remove second item from set\n",
    "print(student)"
   ]
  },
  {
   "cell_type": "code",
   "execution_count": 14,
   "id": "d6fa1600",
   "metadata": {},
   "outputs": [
    {
     "name": "stdout",
     "output_type": "stream",
     "text": [
      "ram\n"
     ]
    }
   ],
   "source": [
    "student = {\"ram\",\"salman\",\"krish\",\"rahul\",\"anand\"}\n",
    "res = student.pop()\n",
    "print(res)\n"
   ]
  },
  {
   "cell_type": "code",
   "execution_count": 16,
   "id": "07844941",
   "metadata": {},
   "outputs": [
    {
     "name": "stdout",
     "output_type": "stream",
     "text": [
      "{'ram', 'anand', 'krish', 'salman'}\n"
     ]
    }
   ],
   "source": [
    "#Remove() ------->  with help of remove method we will remove specific element from list.\n",
    "\n",
    "student = {\"ram\",\"salman\",\"krish\",\"rahul\",\"anand\"}\n",
    "student.remove(\"rahul\")\n",
    "print(student)\n",
    "\n"
   ]
  },
  {
   "cell_type": "code",
   "execution_count": 17,
   "id": "e66c9d6b",
   "metadata": {},
   "outputs": [
    {
     "name": "stdout",
     "output_type": "stream",
     "text": [
      "True\n"
     ]
    }
   ],
   "source": [
    "\n",
    "student = {\"ram\",\"salman\",\"krish\",\"rahul\",\"anand\"}\n",
    "print(\"salman\" in student)"
   ]
  },
  {
   "cell_type": "markdown",
   "id": "31ada144",
   "metadata": {},
   "source": [
    "# union"
   ]
  },
  {
   "cell_type": "code",
   "execution_count": 18,
   "id": "5c1bd924",
   "metadata": {},
   "outputs": [
    {
     "name": "stdout",
     "output_type": "stream",
     "text": [
      "{1, 2, 3, 4, 5}\n"
     ]
    }
   ],
   "source": [
    "#union will give new set contining all the unique element from both set.\n",
    "\n",
    "a = {1,2,3}\n",
    "b = {3,4,5}\n",
    "result = a.union(b)   #set remove duplicates\n",
    "print(result)\n",
    "\n"
   ]
  },
  {
   "cell_type": "markdown",
   "id": "3e2a709a",
   "metadata": {},
   "source": [
    "# intersection"
   ]
  },
  {
   "cell_type": "code",
   "execution_count": 19,
   "id": "f5b63f37",
   "metadata": {},
   "outputs": [
    {
     "name": "stdout",
     "output_type": "stream",
     "text": [
      "{3}\n"
     ]
    }
   ],
   "source": [
    "#intersection will display the interction point from set \n",
    "a = {1,2,3}\n",
    "b = {3,4,5}\n",
    "result = a.intersection(b)  \n",
    "print(result)\n"
   ]
  },
  {
   "cell_type": "markdown",
   "id": "f4651e51",
   "metadata": {},
   "source": [
    "# difference"
   ]
  },
  {
   "cell_type": "code",
   "execution_count": 21,
   "id": "c7dfebf0",
   "metadata": {},
   "outputs": [
    {
     "name": "stdout",
     "output_type": "stream",
     "text": [
      "{1, 2} {4, 5}\n"
     ]
    }
   ],
   "source": [
    "a = {1,2,3}\n",
    "b = {3,4,5}\n",
    "result = a.difference(b)   #12 is not in b\n",
    "result2 = b.difference(a)  #45 is not in a \n",
    "print(result,result2)\n"
   ]
  },
  {
   "cell_type": "code",
   "execution_count": 23,
   "id": "b587cf2c",
   "metadata": {},
   "outputs": [
    {
     "name": "stdout",
     "output_type": "stream",
     "text": [
      "False\n"
     ]
    }
   ],
   "source": [
    "#isdisjoint ------> if set x item is present in set y then it will give false. \n",
    "#                   or else it wiil give True if no of items is different in both\n",
    "\n",
    "x = {\"facebook\",\",moziila\",\"google\"}\n",
    "y = {\"google\",\"microsoft\",\"makemytrip\"}\n",
    "res = x.isdisjoint(y)\n",
    "print(res)"
   ]
  },
  {
   "cell_type": "code",
   "execution_count": 25,
   "id": "fc89a8a0",
   "metadata": {},
   "outputs": [
    {
     "name": "stdout",
     "output_type": "stream",
     "text": [
      "True\n"
     ]
    }
   ],
   "source": [
    "x = {\"facebook\",\",moziila\",\"google\"}\n",
    "y = {\"microsoft\",\"makemytrip\"}\n",
    "res = x.isdisjoint(y)\n",
    "print(res)"
   ]
  },
  {
   "cell_type": "code",
   "execution_count": 26,
   "id": "f62411be",
   "metadata": {},
   "outputs": [
    {
     "name": "stdout",
     "output_type": "stream",
     "text": [
      "set()\n"
     ]
    }
   ],
   "source": [
    "#clear ()  \n",
    "\n",
    "x = {\"facebook\",\",moziila\",\"google\"}\n",
    "x.clear()   #clear the set\n",
    "print(x)\n",
    "\n"
   ]
  },
  {
   "cell_type": "code",
   "execution_count": 28,
   "id": "7140f89b",
   "metadata": {},
   "outputs": [
    {
     "name": "stdout",
     "output_type": "stream",
     "text": [
      "{1, 2, 3, 5}\n"
     ]
    }
   ],
   "source": [
    "#discard  \n",
    "\n",
    "\n",
    "a = {1,2,3,4,5}\n",
    "a.discard(4)\n",
    "print(a)"
   ]
  },
  {
   "cell_type": "code",
   "execution_count": 34,
   "id": "bc1bdc00",
   "metadata": {},
   "outputs": [
    {
     "name": "stdout",
     "output_type": "stream",
     "text": [
      "[10, 20, 30, 40, 50]\n",
      "[10, 20, 30, 40, 50]\n",
      "[10, 20, 30, 40, 50]\n",
      "[10, 20, 30, 40, 50]\n",
      "[10, 20, 30, 40, 50]\n"
     ]
    }
   ],
   "source": [
    "# for with list \n",
    "\n",
    "a =[10,20,30,40,50]\n",
    "for i in a:\n",
    "    print(a)\n",
    "    "
   ]
  },
  {
   "cell_type": "code",
   "execution_count": 31,
   "id": "54e52453",
   "metadata": {},
   "outputs": [
    {
     "name": "stdout",
     "output_type": "stream",
     "text": [
      "10\n",
      "20\n",
      "30\n",
      "40\n",
      "50\n"
     ]
    }
   ],
   "source": [
    "a =[10,20,30,40,50]\n",
    "for i in a :\n",
    "    print(i)\n",
    "    "
   ]
  },
  {
   "cell_type": "code",
   "execution_count": 33,
   "id": "5e128b95",
   "metadata": {},
   "outputs": [
    {
     "name": "stdout",
     "output_type": "stream",
     "text": [
      "100\n",
      "200\n",
      "300\n",
      "400\n",
      "500\n"
     ]
    }
   ],
   "source": [
    "a =[10,20,30,40,50]\n",
    "for i in a :\n",
    "    print(i*10)\n"
   ]
  },
  {
   "cell_type": "code",
   "execution_count": 44,
   "id": "78a404de",
   "metadata": {},
   "outputs": [
    {
     "name": "stdout",
     "output_type": "stream",
     "text": [
      "10 =Even no\n",
      "21 =Odd no\n",
      "30 =Even no\n",
      "40 =Even no\n",
      "45 =Odd no\n"
     ]
    }
   ],
   "source": [
    "a =[10,21,30,40,45]\n",
    "for i in a:\n",
    "    if i%2==0:\n",
    "        print(i,\"=Even no\")\n",
    "    else:\n",
    "        print(i,\"=Odd no\")\n"
   ]
  },
  {
   "cell_type": "code",
   "execution_count": 45,
   "id": "9586f1c7",
   "metadata": {},
   "outputs": [
    {
     "name": "stdout",
     "output_type": "stream",
     "text": [
      "[10, 30]\n"
     ]
    }
   ],
   "source": [
    "a = [10,21,30,45]\n",
    "e =[]\n",
    "for i in a:\n",
    "    if i%2==0:\n",
    "        e.append(i)\n",
    "print(e)"
   ]
  },
  {
   "cell_type": "code",
   "execution_count": 47,
   "id": "311811db",
   "metadata": {},
   "outputs": [
    {
     "name": "stdout",
     "output_type": "stream",
     "text": [
      "[10, 30]\n"
     ]
    }
   ],
   "source": [
    "#second method\n",
    "\n",
    "numbers = [10,21,30,45]\n",
    "newlist = []\n",
    "for i in numbers:\n",
    "    if i%2==0:\n",
    "        newlist.append(i)\n",
    "print(newlist)"
   ]
  },
  {
   "cell_type": "markdown",
   "id": "a75b08c7",
   "metadata": {},
   "source": [
    "# list comprehension"
   ]
  },
  {
   "cell_type": "code",
   "execution_count": 48,
   "id": "88a0eab4",
   "metadata": {},
   "outputs": [
    {
     "name": "stdout",
     "output_type": "stream",
     "text": [
      "[10, 30]\n"
     ]
    }
   ],
   "source": [
    "numbers = [10,21,30,45]\n",
    "newlist = [i for i in numbers if i%2==0]\n",
    "print(newlist)"
   ]
  },
  {
   "cell_type": "code",
   "execution_count": 49,
   "id": "20cf7288",
   "metadata": {},
   "outputs": [
    {
     "name": "stdout",
     "output_type": "stream",
     "text": [
      "[1, 4, 9, 16]\n"
     ]
    }
   ],
   "source": [
    "num = [1,2,3,4]\n",
    "newlist = []\n",
    "for i in num:\n",
    "    newlist.append(i**2)\n",
    "print(newlist)"
   ]
  },
  {
   "cell_type": "code",
   "execution_count": 51,
   "id": "177f3e9a",
   "metadata": {},
   "outputs": [
    {
     "name": "stdout",
     "output_type": "stream",
     "text": [
      "[1, 4, 9, 16]\n"
     ]
    }
   ],
   "source": [
    "num = [1,2,3,4]\n",
    "newlist =[i**2 for i in num]\n",
    "print(newlist)"
   ]
  },
  {
   "cell_type": "code",
   "execution_count": 52,
   "id": "4257cd74",
   "metadata": {},
   "outputs": [
    {
     "name": "stdout",
     "output_type": "stream",
     "text": [
      "[6, 6, 5, 7]\n"
     ]
    }
   ],
   "source": [
    "names =[\"naveen\",\"Swaraj\",\"abrar\",\"Shikhar\"]\n",
    "newlist = [len(i) for i in names]\n",
    "print(newlist)"
   ]
  },
  {
   "cell_type": "code",
   "execution_count": 54,
   "id": "000d155d",
   "metadata": {},
   "outputs": [
    {
     "name": "stdout",
     "output_type": "stream",
     "text": [
      "4\n"
     ]
    }
   ],
   "source": [
    "names =[\"naveen\",\"Swaraj\",\"abrar\",\"Shikhar\"]\n",
    "print(len(names))"
   ]
  },
  {
   "cell_type": "code",
   "execution_count": 60,
   "id": "178314e8",
   "metadata": {},
   "outputs": [
    {
     "name": "stdout",
     "output_type": "stream",
     "text": [
      "Total salary= 200000\n"
     ]
    }
   ],
   "source": [
    "salary =[20000,30000,40000,50000,10000,50000]\n",
    "result =sum(salary)\n",
    "print(\"Total salary=\",result)"
   ]
  },
  {
   "cell_type": "code",
   "execution_count": 61,
   "id": "3b8e195a",
   "metadata": {},
   "outputs": [
    {
     "name": "stdout",
     "output_type": "stream",
     "text": [
      "8\n"
     ]
    }
   ],
   "source": [
    "names =[\"naveen\",\"Swaraj\",\"abrar\",\"Shikhar\",\"naveen\",\"Swaraj\",\"abrar\",\"Shikhar\"]\n",
    "print(len(names))\n"
   ]
  },
  {
   "cell_type": "code",
   "execution_count": 62,
   "id": "73f7ce2a",
   "metadata": {},
   "outputs": [
    {
     "name": "stdout",
     "output_type": "stream",
     "text": [
      "['naveen', 'swaraj', 'Ram', 'Alex', 'prerna', 'Komal']\n"
     ]
    }
   ],
   "source": [
    "sem1 = [\"naveen\",\"swaraj\"]\n",
    "sem2 = [\"Ram\",\"Alex\"]\n",
    "sem3 = [\"prerna\",\"Komal\"]\n",
    "print(sem1+sem2+sem3)"
   ]
  },
  {
   "cell_type": "code",
   "execution_count": 65,
   "id": "a022333d",
   "metadata": {},
   "outputs": [
    {
     "name": "stdout",
     "output_type": "stream",
     "text": [
      "avarage salary 32857.142857142855\n"
     ]
    }
   ],
   "source": [
    "salary =[20000,30000,40000,50000,10000,50000,30000]\n",
    "total = sum(salary)\n",
    "length =len(salary)\n",
    "avg  = total/length\n",
    "print(\"avarage salary\",avg)"
   ]
  },
  {
   "cell_type": "code",
   "execution_count": null,
   "id": "624616e4",
   "metadata": {},
   "outputs": [],
   "source": []
  }
 ],
 "metadata": {
  "kernelspec": {
   "display_name": "Python 3 (ipykernel)",
   "language": "python",
   "name": "python3"
  },
  "language_info": {
   "codemirror_mode": {
    "name": "ipython",
    "version": 3
   },
   "file_extension": ".py",
   "mimetype": "text/x-python",
   "name": "python",
   "nbconvert_exporter": "python",
   "pygments_lexer": "ipython3",
   "version": "3.11.4"
  }
 },
 "nbformat": 4,
 "nbformat_minor": 5
}
