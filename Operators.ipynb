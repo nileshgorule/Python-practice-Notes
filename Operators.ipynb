{
 "cells": [
  {
   "cell_type": "code",
   "execution_count": 1,
   "id": "bd912e8c",
   "metadata": {},
   "outputs": [],
   "source": [
    "# Operator"
   ]
  },
  {
   "cell_type": "code",
   "execution_count": 4,
   "id": "116bdaa1",
   "metadata": {},
   "outputs": [
    {
     "data": {
      "text/plain": [
       "4"
      ]
     },
     "execution_count": 4,
     "metadata": {},
     "output_type": "execute_result"
    }
   ],
   "source": [
    "2 + 2"
   ]
  },
  {
   "cell_type": "code",
   "execution_count": 5,
   "id": "4bf1ed43",
   "metadata": {},
   "outputs": [],
   "source": [
    "# Operands"
   ]
  },
  {
   "cell_type": "code",
   "execution_count": 6,
   "id": "11a8d078",
   "metadata": {},
   "outputs": [
    {
     "data": {
      "text/plain": [
       "8"
      ]
     },
     "execution_count": 6,
     "metadata": {},
     "output_type": "execute_result"
    }
   ],
   "source": [
    "2 + 2 + 4"
   ]
  },
  {
   "cell_type": "code",
   "execution_count": 7,
   "id": "e00000b5",
   "metadata": {},
   "outputs": [
    {
     "name": "stdout",
     "output_type": "stream",
     "text": [
      "Addition: 8\n",
      "Subtraction: 2\n",
      "Multiplication: 15\n",
      "Division: 1.6666666666666667\n",
      "Floor Division: 1\n",
      "Modulus: 2\n"
     ]
    }
   ],
   "source": [
    "# Addition\n",
    "result_addition = 5 + 3\n",
    "print(\"Addition:\", result_addition)\n",
    "\n",
    "# Subtraction\n",
    "result_subtraction = 5 - 3\n",
    "print(\"Subtraction:\", result_subtraction)\n",
    "\n",
    "# Multiplication\n",
    "result_multiplication = 5 * 3\n",
    "print(\"Multiplication:\", result_multiplication)\n",
    "\n",
    "# Division\n",
    "result_division = 5 / 3\n",
    "print(\"Division:\", result_division)\n",
    "\n",
    "# Floor Division (returns integer quotient)\n",
    "result_floor_division = 5 // 3\n",
    "print(\"Floor Division:\", result_floor_division)\n",
    "\n",
    "# Modulus (returns remainder of division)\n",
    "result_modulus = 5 % 3\n",
    "print(\"Modulus:\", result_modulus)\n"
   ]
  },
  {
   "cell_type": "code",
   "execution_count": 5,
   "id": "3baee8f1",
   "metadata": {},
   "outputs": [
    {
     "name": "stdout",
     "output_type": "stream",
     "text": [
      "False\n"
     ]
    }
   ],
   "source": [
    "res = True and False\n",
    "print(res)"
   ]
  },
  {
   "cell_type": "code",
   "execution_count": 4,
   "id": "2b225f10",
   "metadata": {},
   "outputs": [
    {
     "data": {
      "text/plain": [
       "False"
      ]
     },
     "execution_count": 4,
     "metadata": {},
     "output_type": "execute_result"
    }
   ],
   "source": [
    "res = not 1\n",
    "res"
   ]
  },
  {
   "cell_type": "code",
   "execution_count": 10,
   "id": "323ee52a",
   "metadata": {},
   "outputs": [
    {
     "name": "stdout",
     "output_type": "stream",
     "text": [
      "Login Sucessfull\n"
     ]
    }
   ],
   "source": [
    "user = \"Alex\"\n",
    "password = 12345\n",
    "\n",
    "if user == \"Alex\" and password == 1234:\n",
    "    print(\"Login Sucessfull\")\n",
    "else:\n",
    "    print(\"Login UnSucessfull\")"
   ]
  },
  {
   "cell_type": "code",
   "execution_count": null,
   "id": "678486b9",
   "metadata": {},
   "outputs": [],
   "source": []
  }
 ],
 "metadata": {
  "kernelspec": {
   "display_name": "Python 3 (ipykernel)",
   "language": "python",
   "name": "python3"
  },
  "language_info": {
   "codemirror_mode": {
    "name": "ipython",
    "version": 3
   },
   "file_extension": ".py",
   "mimetype": "text/x-python",
   "name": "python",
   "nbconvert_exporter": "python",
   "pygments_lexer": "ipython3",
   "version": "3.11.3"
  }
 },
 "nbformat": 4,
 "nbformat_minor": 5
}
